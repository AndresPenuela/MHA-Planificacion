{
 "cells": [
  {
   "cell_type": "markdown",
   "id": "f112b556",
   "metadata": {},
   "source": [
    "# Sierra Boyera model\n",
    "The Sierra Boyera reservoir is located within the municipalities of the towns of Belmez, Peñarroya-Pueblonuevo and Fuente Obejuna, in the province of Córdoba (Andalusia, Spain).\n",
    "\n",
    "Its operation has 2 main objectives: water supply (both urban and agricultural uses) and recreational purposes.\n",
    "\n",
    "<left><img src=\"images/Sierra Boyera.jpg\" width = \"600px\"><left>"
   ]
  },
  {
   "cell_type": "code",
   "execution_count": null,
   "id": "3cdd832e",
   "metadata": {},
   "outputs": [],
   "source": [
    "# Importing necessary libraries\n",
    "import pandas as pd  # Pandas for data manipulation and analysis\n",
    "import numpy as np   # NumPy for numerical computations\n",
    "import matplotlib.pyplot as plt  # Matplotlib for plotting\n",
    "from ipywidgets import interact # to create interactive elements and figures"
   ]
  },
  {
   "cell_type": "markdown",
   "id": "6658296b",
   "metadata": {},
   "source": [
    "## Characterisitics of the system\n",
    "\n",
    "<left><img src=\"images/system_diagram.png\" width = \"600px\"><left>"
   ]
  },
  {
   "cell_type": "code",
   "execution_count": null,
   "id": "2ee4895e",
   "metadata": {},
   "outputs": [],
   "source": [
    "s_max = 41 # Maximum reservoir storage hm3\n",
    "s_min = 3 # Minimum reservoir storage hm3\n",
    "s_0 = 30 # Initial reservoir storage\n",
    "area = 439 # catchment area km2"
   ]
  },
  {
   "cell_type": "markdown",
   "id": "c13eff12",
   "metadata": {},
   "source": [
    "## Model inputs\n",
    "\n",
    "### Precipitation\n",
    "First we load the available rain data (Oct 2015 to Mar 2023)"
   ]
  },
  {
   "cell_type": "code",
   "execution_count": null,
   "id": "f8a83dc7",
   "metadata": {},
   "outputs": [],
   "source": [
    "rain_daily = pd.read_excel('data/rain.xlsx',index_col = 'date')"
   ]
  },
  {
   "cell_type": "markdown",
   "id": "b3c3ace4",
   "metadata": {},
   "source": [
    "Then we **resample** the data from **daily to monthly** precipitation"
   ]
  },
  {
   "cell_type": "code",
   "execution_count": null,
   "id": "37d12870",
   "metadata": {},
   "outputs": [],
   "source": [
    "rain_monthly = "
   ]
  },
  {
   "cell_type": "markdown",
   "id": "eed9dbbf",
   "metadata": {},
   "source": [
    "Let's plot the monthly precipitation"
   ]
  },
  {
   "cell_type": "code",
   "execution_count": null,
   "id": "f7f17a88",
   "metadata": {},
   "outputs": [],
   "source": []
  },
  {
   "cell_type": "markdown",
   "id": "17369390",
   "metadata": {},
   "source": [
    "## Reservoir inflows"
   ]
  },
  {
   "cell_type": "markdown",
   "id": "3ab02328",
   "metadata": {},
   "source": [
    "Now let's create a very simple model to transform monthly rainfall into monthly reservoir inflows, knowing that the runoff coefficient in the  catchment is **C = 0.06** (6% of the precipitation turns into runoff)"
   ]
  },
  {
   "cell_type": "code",
   "execution_count": null,
   "id": "e1f98cf8",
   "metadata": {},
   "outputs": [],
   "source": [
    "def rain_to_inflow():\n",
    "    \n",
    "    \n",
    "    \n",
    "    return "
   ]
  },
  {
   "cell_type": "markdown",
   "id": "aea80bb8",
   "metadata": {},
   "source": [
    "Now run the model and plot the reservoir inflows"
   ]
  },
  {
   "cell_type": "code",
   "execution_count": null,
   "id": "7a68326f",
   "metadata": {},
   "outputs": [],
   "source": []
  },
  {
   "cell_type": "markdown",
   "id": "e2a3b4a8",
   "metadata": {},
   "source": [
    "**Let's compare the simulated inflow with observations (measured inflows).**"
   ]
  },
  {
   "cell_type": "code",
   "execution_count": null,
   "id": "f5aae2b6",
   "metadata": {},
   "outputs": [],
   "source": [
    "# We load the observed inflow data\n",
    "inflow_obs_m3s = pd.read_excel('data/inflow_obs.xlsx',index_col = 'date') # in m3/s\n",
    "inflow_obs = inflow_obs_m3s * 1e-6 * (3600 * 24 * 30) # in hm3/month\n",
    "# Plot the simulated inflow vs observed inflow \n"
   ]
  },
  {
   "cell_type": "markdown",
   "id": "aab2cf1f",
   "metadata": {},
   "source": [
    "**Are the simulations any good? Can we improve the simulations by changing C? Let's try:**"
   ]
  },
  {
   "cell_type": "code",
   "execution_count": null,
   "id": "233d84f0",
   "metadata": {},
   "outputs": [],
   "source": [
    "@interact(C = (0,1,0.01))\n",
    "def interactive_hydrological_model(C=0.06):\n",
    "    \n",
    "    inflow = rain_to_inflow(rain_monthly['precipitation'], C, area)\n",
    "    \n",
    "    # Plot the simulated inflow vs observed inflow \n",
    "    plt.figure(figsize = (15,4))\n",
    "    plt.plot(inflow, color = 'darkblue',label = 'simulated reservoir inflow')\n",
    "    plt.plot(inflow_obs, color = 'gray', linestyle = ':', label = 'observed reservoir inflow')\n",
    "    plt.ylabel('hm3/month')\n",
    "    plt.legend()\n",
    "    plt.show()"
   ]
  },
  {
   "cell_type": "markdown",
   "id": "1e730fff",
   "metadata": {},
   "source": [
    "## Evaporation\n",
    "Load the monthly **evaporation** rates (**mm/month**): ***demand_agri.xlsx***"
   ]
  },
  {
   "cell_type": "code",
   "execution_count": null,
   "id": "c29a7d35",
   "metadata": {},
   "outputs": [],
   "source": [
    "evap_month = pd.read_excel('data/evap.xlsx',index_col = 'month')"
   ]
  },
  {
   "cell_type": "markdown",
   "id": "e7c997ff",
   "metadata": {},
   "source": [
    "**Here we assume that the monthly evaporation changes within a year but does not change between years. Let's print the data on the screen:**"
   ]
  },
  {
   "cell_type": "code",
   "execution_count": null,
   "id": "a5cf47eb",
   "metadata": {},
   "outputs": [],
   "source": []
  },
  {
   "cell_type": "markdown",
   "id": "089153e3",
   "metadata": {},
   "source": [
    "**Let's create a time series of the evaporation rate for each month from Oct 2015 to Mar 2023, based on** `evap_month` (the index column of the dataframe should correspond to the date)"
   ]
  },
  {
   "cell_type": "code",
   "execution_count": null,
   "id": "9b3d86f7",
   "metadata": {},
   "outputs": [],
   "source": []
  },
  {
   "cell_type": "markdown",
   "id": "eda2d782",
   "metadata": {},
   "source": [
    "**Let's plot both the monthly evaporation rate (mm/month) and the precipitation (mm/month)**"
   ]
  },
  {
   "cell_type": "code",
   "execution_count": null,
   "id": "dd8940b3",
   "metadata": {},
   "outputs": [],
   "source": []
  },
  {
   "cell_type": "markdown",
   "id": "aff1cd0d",
   "metadata": {},
   "source": [
    "#### Model to compute the volume of evaporation (mm to hm3)\n",
    "- Relationship between the reservoir storage volume (hm3) and the corresponding reservoir surface area (**ha**) is as follows:\n",
    "\n",
    "<left><img src=\"data/table - Vol vs Surf.png\" width = \"300px\"><left>\n",
    "    \n",
    "Tip: use the function `np.interp`"
   ]
  },
  {
   "cell_type": "code",
   "execution_count": null,
   "id": "6349aa25",
   "metadata": {},
   "outputs": [],
   "source": [
    "def res_evap():\n",
    "    \n",
    "    \n",
    "\n",
    "    return evap_vol"
   ]
  },
  {
   "cell_type": "markdown",
   "id": "764949d9",
   "metadata": {},
   "source": [
    "**Question**: Why we cannot calculate the volume of evaporation a priori?"
   ]
  },
  {
   "cell_type": "markdown",
   "id": "40b589b4",
   "metadata": {},
   "source": [
    "## Environmental flow\n",
    "The **minimum environmental flows** are:\n",
    "- Oct-Nov: **70 l/s**\n",
    "- Dec-Apr: **140 l/s**\n",
    "- May-Sep: **60 l/s**\n",
    "\n",
    "Create a function to compute the **monthly** minimum environmental flow according to the conditions above. The function should transform the units from l/s to hm3/month: "
   ]
  },
  {
   "cell_type": "code",
   "execution_count": null,
   "id": "440636e3",
   "metadata": {},
   "outputs": [],
   "source": [
    "def env_flow():\n",
    "\n",
    "    \n",
    "    \n",
    "    return env_min"
   ]
  },
  {
   "cell_type": "markdown",
   "id": "2671ba7a",
   "metadata": {},
   "source": [
    "## Water demands\n",
    "- Urban: **7.5 hm3/year**\n",
    "- Agricultural: see file ***evap.xlsx*** Values in **hm3/month** "
   ]
  },
  {
   "cell_type": "code",
   "execution_count": null,
   "id": "13c93b4c",
   "metadata": {},
   "outputs": [],
   "source": [
    "dem_urb = 7.5 / 12 # hm3/month\n",
    "dem_agr = pd.read_excel('data/demand_agri.xlsx',index_col = 'month')"
   ]
  },
  {
   "cell_type": "markdown",
   "id": "3fdcccf6",
   "metadata": {},
   "source": [
    "Here we assume that the monthly agricultural demand changes within a year but does not change between years. Let's print the data on the screen:"
   ]
  },
  {
   "cell_type": "code",
   "execution_count": null,
   "id": "ee6686f4",
   "metadata": {},
   "outputs": [],
   "source": []
  },
  {
   "cell_type": "markdown",
   "id": "3c004a3e",
   "metadata": {},
   "source": [
    "**Let's create a dataframe of time series of monthly demands (both urban and agriculture) for each month from Oct 2015 to Mar 2023, based on** `dem_urb` and `dem_agr` (the index column of the dataframe should correspond to the date)"
   ]
  },
  {
   "cell_type": "code",
   "execution_count": null,
   "id": "aeecedef",
   "metadata": {},
   "outputs": [],
   "source": []
  },
  {
   "cell_type": "markdown",
   "id": "f42c9fa5",
   "metadata": {},
   "source": [
    "## Operation rule\n",
    "- If the reservoir storage >= 18 hm3, both urban and agricultural demands are met.\n",
    "- If the reservoir storage (s) drops below **18hm3**, only **50% of agricultural demand is met**."
   ]
  },
  {
   "cell_type": "code",
   "execution_count": null,
   "id": "7a7a550d",
   "metadata": {},
   "outputs": [],
   "source": [
    "def operation_rule():\n",
    "    \n",
    "    \n",
    "\n",
    "    return demand"
   ]
  },
  {
   "cell_type": "markdown",
   "id": "f55995cb",
   "metadata": {},
   "source": [
    "## Reservoir model\n",
    "**With all this information, we would like to simulate the Sierra Boyera system from Oct 2015 until Mar 2023 and optimise its operation**."
   ]
  },
  {
   "cell_type": "code",
   "execution_count": null,
   "id": "5e7cb6fc",
   "metadata": {},
   "outputs": [],
   "source": [
    "def res_sim(inflow,evap_rate,demand,s_0,s_max):\n",
    "    \n",
    "    \"\"\"\n",
    "    This is a model that simulates the operation of a single reservoir system. \n",
    "    It essentially consists of a water balance equation, \n",
    "    where the storage (s) at a future time step is predicted from the storage at the current time \n",
    "    by adding and subtracting the inflows and outflows that will occur during the temporal interval ahead\n",
    "\n",
    "    The inputs of the model are:\n",
    "\n",
    "    inflow = time series of reservoir inflows [hm3/month]\n",
    "    evap_rate = evaporation rate from the reservoir surface area [mm/month]\n",
    "    demand = time series of water demand [hm3/month]\n",
    "    s_0 = initial reservoir storage [hm3]\n",
    "    s_max = maximum storage capacity of the reservoir [hm3]\n",
    "    \n",
    "    And the outpus are:\n",
    "    \n",
    "    dates = time series of dates (monthly)\n",
    "    s = reservoir storage [hm3]\n",
    "    evap = volume of water evaporated from the reservoir surface [hm3/month]\n",
    "    env = environmental compensation flow [hm3/month]\n",
    "    spill = outflow through spillways [hm3/month]\n",
    "    supply = regulated reservoir release for water supply [hm3/month]\n",
    "    \n",
    "    \"\"\"\n",
    "    dates = inflow.index\n",
    "    \n",
    "    T = len(dates) # number of time steps (weeks)\n",
    "    # Declare output variables\n",
    "\n",
    "    s = np.zeros(T+1) # reservoir storage in hm3\n",
    "\n",
    "    spill = np.zeros(T) # spillage in hm3\n",
    "    env = np.zeros(T) # environmental compensation flow\n",
    "    evap = np.zeros(T) # evaporation volume\n",
    "    supply = np.zeros(T) # supply releases\n",
    "    \n",
    "    # Initial storage\n",
    "    s[0] = s_0\n",
    "\n",
    "    \n",
    "    \n",
    "    \n",
    "    \n",
    "    \n",
    "        \n",
    "    return dates,s[:-1],evap,env,spill,supply"
   ]
  },
  {
   "cell_type": "markdown",
   "id": "8efa652a",
   "metadata": {},
   "source": [
    "**Let's run the model**"
   ]
  },
  {
   "cell_type": "code",
   "execution_count": null,
   "id": "3226f1dd",
   "metadata": {},
   "outputs": [],
   "source": []
  },
  {
   "cell_type": "markdown",
   "id": "e766caa6",
   "metadata": {},
   "source": [
    "**Load the observed reservoir storage**"
   ]
  },
  {
   "cell_type": "code",
   "execution_count": null,
   "id": "0f904bec",
   "metadata": {},
   "outputs": [],
   "source": [
    "s_obs = pd.read_excel('data/res_storage_obs.xlsx',index_col = 'date')"
   ]
  },
  {
   "cell_type": "markdown",
   "id": "caf0fc4c",
   "metadata": {},
   "source": [
    "**Let's plot the outputs: in one figure compare the simulated vs observed reservoir storage and in another one plot the supply vs environmental flow vs evaporation** "
   ]
  },
  {
   "cell_type": "code",
   "execution_count": null,
   "id": "cedc0e9f",
   "metadata": {},
   "outputs": [],
   "source": []
  },
  {
   "cell_type": "markdown",
   "id": "aefe69fe",
   "metadata": {},
   "source": [
    "**Question:** does the simulation of the reservoir storage corresponds to the observations? Why?"
   ]
  }
 ],
 "metadata": {
  "kernelspec": {
   "display_name": "Python 3",
   "language": "python",
   "name": "python3"
  },
  "language_info": {
   "codemirror_mode": {
    "name": "ipython",
    "version": 3
   },
   "file_extension": ".py",
   "mimetype": "text/x-python",
   "name": "python",
   "nbconvert_exporter": "python",
   "pygments_lexer": "ipython3",
   "version": "3.8.8"
  },
  "varInspector": {
   "cols": {
    "lenName": 16,
    "lenType": 16,
    "lenVar": 40
   },
   "kernels_config": {
    "python": {
     "delete_cmd_postfix": "",
     "delete_cmd_prefix": "del ",
     "library": "var_list.py",
     "varRefreshCmd": "print(var_dic_list())"
    },
    "r": {
     "delete_cmd_postfix": ") ",
     "delete_cmd_prefix": "rm(",
     "library": "var_list.r",
     "varRefreshCmd": "cat(var_dic_list()) "
    }
   },
   "types_to_exclude": [
    "module",
    "function",
    "builtin_function_or_method",
    "instance",
    "_Feature"
   ],
   "window_display": false
  }
 },
 "nbformat": 4,
 "nbformat_minor": 5
}
