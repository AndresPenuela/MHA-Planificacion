{
 "cells": [
  {
   "cell_type": "markdown",
   "id": "f112b556",
   "metadata": {},
   "source": [
    "# Sierra Boyera model\n",
    "The Sierra Boyera reservoir is located within the municipalities of the towns of Belmez, Peñarroya-Pueblonuevo and Fuente Obejuna, in the province of Córdoba (Andalusia, Spain).\n",
    "\n",
    "Its operation has 2 main objectives: water supply (both urban and agricultural uses) and recreational purposes.\n",
    "\n",
    "<left><img src=\"images/Sierra Boyera.jpg\" width = \"600px\"><left>"
   ]
  },
  {
   "cell_type": "code",
   "execution_count": 4,
   "id": "3cdd832e",
   "metadata": {},
   "outputs": [],
   "source": [
    "import pandas as pd\n",
    "import numpy as np\n",
    "import matplotlib.pyplot as plt\n",
    "from ipywidgets import interact"
   ]
  },
  {
   "cell_type": "markdown",
   "id": "f42c9fa5",
   "metadata": {},
   "source": [
    "**Characterisitics** of the system:\n",
    "\n",
    "<left><img src=\"images/system_diagram.png\" width = \"600px\"><left>\n",
    "\n",
    "- Maximum reservoir storage: **41 hm3**\n",
    "- Minimum reservoir storage: **3 hm3**\n",
    "- Basin area: **439 km2**\n",
    "- Relationship between the reservoir storage volume (hm3) and the corresponding reservoir surface area (ha) is as follows:\n",
    "\n",
    "<left><img src=\"data/table - Vol vs Surf.png\" width = \"300px\"><left>\n",
    "    \n",
    "The minimum **environmental flows** are:\n",
    "- Oct-Nov: **70 l/s**\n",
    "- Dec-Apr: **140 l/s**\n",
    "- May-Sep: **60 l/s**\n",
    "    \n",
    "Water **demand**:\n",
    "- Urban - Cordoba Norte: **7.5 hm3/year**\n",
    "- Agricultural:\n",
    "<left><img src=\"data/Agricultural demand.png\" width = \"800px\"><left>\n",
    "    \n",
    "Monthly **evaporation** rates (mm/month):\n",
    "- Oct: **65.7**\n",
    "- Nov: **33.7**\n",
    "- Dec: **23.3**\n",
    "- Jan: **24**\n",
    "- Feb: **25.3**\n",
    "- Mar: **54.7**\n",
    "- Apr: **60.1**\n",
    "- May: **93.3**\n",
    "- Jun: **127.3**\n",
    "- Jul: **172**\n",
    "- Aug: **186.7**\n",
    "- Sep: **133.3**"
   ]
  },
  {
   "cell_type": "markdown",
   "id": "c13eff12",
   "metadata": {},
   "source": [
    "### Model inputs\n",
    "First we load the available rain data (Oct 2015 to Mar 2023)"
   ]
  },
  {
   "cell_type": "code",
   "execution_count": 5,
   "id": "f8a83dc7",
   "metadata": {},
   "outputs": [],
   "source": [
    "rain = pd.read_excel('data/rain.xlsx',index_col = 'fecha')"
   ]
  },
  {
   "cell_type": "markdown",
   "id": "b3c3ace4",
   "metadata": {},
   "source": [
    "Then we resample the data from daily to monthly precipitation"
   ]
  },
  {
   "cell_type": "code",
   "execution_count": 6,
   "id": "37d12870",
   "metadata": {},
   "outputs": [],
   "source": [
    "rain_month = rain.resample('M').sum()"
   ]
  },
  {
   "cell_type": "markdown",
   "id": "eed9dbbf",
   "metadata": {},
   "source": [
    "Let's plot the monthly precipitation"
   ]
  },
  {
   "cell_type": "code",
   "execution_count": 7,
   "id": "f7f17a88",
   "metadata": {},
   "outputs": [
    {
     "data": {
      "text/html": [
       "<div>\n",
       "<style scoped>\n",
       "    .dataframe tbody tr th:only-of-type {\n",
       "        vertical-align: middle;\n",
       "    }\n",
       "\n",
       "    .dataframe tbody tr th {\n",
       "        vertical-align: top;\n",
       "    }\n",
       "\n",
       "    .dataframe thead th {\n",
       "        text-align: right;\n",
       "    }\n",
       "</style>\n",
       "<table border=\"1\" class=\"dataframe\">\n",
       "  <thead>\n",
       "    <tr style=\"text-align: right;\">\n",
       "      <th></th>\n",
       "      <th>precipitacion</th>\n",
       "    </tr>\n",
       "    <tr>\n",
       "      <th>fecha</th>\n",
       "      <th></th>\n",
       "    </tr>\n",
       "  </thead>\n",
       "  <tbody>\n",
       "    <tr>\n",
       "      <th>2015-10-31</th>\n",
       "      <td>49.4</td>\n",
       "    </tr>\n",
       "    <tr>\n",
       "      <th>2015-11-30</th>\n",
       "      <td>26.1</td>\n",
       "    </tr>\n",
       "    <tr>\n",
       "      <th>2015-12-31</th>\n",
       "      <td>7.5</td>\n",
       "    </tr>\n",
       "    <tr>\n",
       "      <th>2016-01-31</th>\n",
       "      <td>50.6</td>\n",
       "    </tr>\n",
       "    <tr>\n",
       "      <th>2016-02-29</th>\n",
       "      <td>15.0</td>\n",
       "    </tr>\n",
       "    <tr>\n",
       "      <th>...</th>\n",
       "      <td>...</td>\n",
       "    </tr>\n",
       "    <tr>\n",
       "      <th>2022-11-30</th>\n",
       "      <td>29.5</td>\n",
       "    </tr>\n",
       "    <tr>\n",
       "      <th>2022-12-31</th>\n",
       "      <td>63.0</td>\n",
       "    </tr>\n",
       "    <tr>\n",
       "      <th>2023-01-31</th>\n",
       "      <td>14.5</td>\n",
       "    </tr>\n",
       "    <tr>\n",
       "      <th>2023-02-28</th>\n",
       "      <td>10.2</td>\n",
       "    </tr>\n",
       "    <tr>\n",
       "      <th>2023-03-31</th>\n",
       "      <td>14.7</td>\n",
       "    </tr>\n",
       "  </tbody>\n",
       "</table>\n",
       "<p>90 rows × 1 columns</p>\n",
       "</div>"
      ],
      "text/plain": [
       "            precipitacion\n",
       "fecha                    \n",
       "2015-10-31           49.4\n",
       "2015-11-30           26.1\n",
       "2015-12-31            7.5\n",
       "2016-01-31           50.6\n",
       "2016-02-29           15.0\n",
       "...                   ...\n",
       "2022-11-30           29.5\n",
       "2022-12-31           63.0\n",
       "2023-01-31           14.5\n",
       "2023-02-28           10.2\n",
       "2023-03-31           14.7\n",
       "\n",
       "[90 rows x 1 columns]"
      ]
     },
     "execution_count": 7,
     "metadata": {},
     "output_type": "execute_result"
    }
   ],
   "source": [
    "rain_month"
   ]
  },
  {
   "cell_type": "code",
   "execution_count": null,
   "id": "1a61a409",
   "metadata": {},
   "outputs": [],
   "source": []
  },
  {
   "cell_type": "code",
   "execution_count": null,
   "id": "a2e6189c",
   "metadata": {},
   "outputs": [],
   "source": [
    "rain_month[(rain_month.index.year==2016) & (rain_month.index.month==1)] "
   ]
  },
  {
   "cell_type": "code",
   "execution_count": 15,
   "id": "72932d06",
   "metadata": {},
   "outputs": [],
   "source": [
    "dates = rain_month.index"
   ]
  },
  {
   "cell_type": "code",
   "execution_count": 24,
   "id": "525b0c74",
   "metadata": {},
   "outputs": [
    {
     "data": {
      "text/plain": [
       "True"
      ]
     },
     "execution_count": 24,
     "metadata": {},
     "output_type": "execute_result"
    }
   ],
   "source": [
    "dates[10].month == 8"
   ]
  },
  {
   "cell_type": "markdown",
   "id": "3ab02328",
   "metadata": {},
   "source": [
    "Now let's create a very simple model to transform rainfall into reservoir inflows, knowing that the runoff coefficient in the  catchment is C = 0.16 (16% of the precipitation turns into runoff)"
   ]
  },
  {
   "cell_type": "code",
   "execution_count": null,
   "id": "e1f98cf8",
   "metadata": {},
   "outputs": [],
   "source": [
    "inflows"
   ]
  },
  {
   "cell_type": "markdown",
   "id": "e936a88c",
   "metadata": {},
   "source": [
    "### Reservoir operation policies\n",
    "<left><img src=\"images/Rule curves.png\" width = \"1000px\"><left>\n",
    "    \n",
    "<left><img src=\"images/Operation rule - Table.png\" width = \"500px\"><left>"
   ]
  },
  {
   "cell_type": "markdown",
   "id": "f55995cb",
   "metadata": {},
   "source": [
    "**With all this information, we would like to simulate the Sierra Boyera system from Oct 2015 until Mar 2023 and optimise its operation**."
   ]
  },
  {
   "cell_type": "code",
   "execution_count": null,
   "id": "5e7cb6fc",
   "metadata": {},
   "outputs": [],
   "source": []
  }
 ],
 "metadata": {
  "kernelspec": {
   "display_name": "Python 3 (ipykernel)",
   "language": "python",
   "name": "python3"
  },
  "language_info": {
   "codemirror_mode": {
    "name": "ipython",
    "version": 3
   },
   "file_extension": ".py",
   "mimetype": "text/x-python",
   "name": "python",
   "nbconvert_exporter": "python",
   "pygments_lexer": "ipython3",
   "version": "3.7.1"
  },
  "varInspector": {
   "cols": {
    "lenName": 16,
    "lenType": 16,
    "lenVar": 40
   },
   "kernels_config": {
    "python": {
     "delete_cmd_postfix": "",
     "delete_cmd_prefix": "del ",
     "library": "var_list.py",
     "varRefreshCmd": "print(var_dic_list())"
    },
    "r": {
     "delete_cmd_postfix": ") ",
     "delete_cmd_prefix": "rm(",
     "library": "var_list.r",
     "varRefreshCmd": "cat(var_dic_list()) "
    }
   },
   "types_to_exclude": [
    "module",
    "function",
    "builtin_function_or_method",
    "instance",
    "_Feature"
   ],
   "window_display": false
  }
 },
 "nbformat": 4,
 "nbformat_minor": 5
}
