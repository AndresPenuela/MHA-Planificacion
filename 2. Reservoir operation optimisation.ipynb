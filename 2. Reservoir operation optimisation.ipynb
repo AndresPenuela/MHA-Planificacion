{
 "cells": [
  {
   "cell_type": "markdown",
   "id": "ad5cd3ef",
   "metadata": {},
   "source": [
    "# Reservoir operation optimisation\n",
    "In this Notebook we will see how we can optimize the operation of water supply reservoir system using an multiobjective optimizer.\n",
    "\n",
    "<left><img src=\"images/Dam2.gif\" width = \"600px\"><left>\n",
    "\n",
    "As we have seen, when we deal with **two conflicting objectives**, we cannot find a solution that optimise both simoultaneously. If we prioritize one objective, the other one is deteriorated: there is a trade-off between the two. It would then be interesting to explore this tradeoff, and find all the release schedules that produce a different optimal combination of the two objectives. However, this is too cumbersome to do manually. Here we then use a **multi-objective optimisation** algorithm to do that for us. \n",
    "\n",
    "To this end, we use the Python Platypus package, and the NSGAII algorithm implemented in it. For more information about these methods and tools, see [Deb et al, 2002](https://ieeexplore.ieee.org/document/996017) and the [Platypus webpage](https://platypus.readthedocs.io). \n",
    "\n",
    "As in the previous Notebook \"Reservoir operation modelling\" we consider a simple illustrative system where a reservoir is operated to supply water to a domestic consumption node. We use a mathematical model to link all the key variables that represent the reservoir dynamics (inflow, storage and outflows) and use model simulation/optimisation to determine the reservoir release scheduling that will best meet the water demand over a coming period of time, given the predicted (or assumed) scenario of future inflows.\n",
    "    \n",
    "<left> <img src=\"images/system_representation_IO0.png\" width = \"600px\"><left>    \n",
    "\n",
    "## Import libraries\n",
    "Before getting started, let's import some libraries that will be used throughout the Notebook:"
   ]
  },
  {
   "cell_type": "code",
   "execution_count": 1,
   "id": "925ec55b",
   "metadata": {},
   "outputs": [],
   "source": [
    "import numpy as np\n",
    "import matplotlib.pyplot as plt\n",
    "from ipywidgets import interact # to create interactive elements and figures\n",
    "from platypus import NSGAII, Problem, Real, Integer # for the multi-objective optimization"
   ]
  },
  {
   "cell_type": "markdown",
   "id": "83067a18",
   "metadata": {},
   "source": [
    "## The reservoir model\n",
    "\n",
    "The mathematical model of the reservoir essentially consists of a water balance equation, where the storage (***s***) at a future time step (for example, at the beginning of the next week) is predicted from the storage at the current time (the beginning of the this week) by adding and subtracting the inflows and outflows that will occur during the temporal interval ahead:\n",
    "\n",
    "$s(t+1) = s(t) + inflow(t) – evap(t) – env(t) - spill(t) – supply(t)$   \n",
    "\n",
    "Where\n",
    "\n",
    "***s(t)*** = reservoir storage at time-step t, in Vol (for example: ML)\n",
    "\n",
    "***inflow(t)*** = reservoir inflows in the interval [t,t+1], in Vol/time (for example: ML/week).\n",
    "\n",
    "***evap(t)*** = evaporation from the reservoir surface area in the interval [t,t+1], in Vol/time (for example: ML/week).\n",
    "\n",
    "***env(t)*** = environmental compensation flow in the interval [t,t+1], in Vol/time (for example: ML/week). \n",
    "\n",
    "***spill(t)*** = outflow through spillways (if any) in the interval [t,t+1], in Vol/time (for example: ML/week). \n",
    "\n",
    "***supply(t)*** = regulated reservoir release for water supply in the interval [t,t+1], in Vol/time (for example: ML/week). \n",
    "\n",
    "<left> <img src=\"images/system_representation_IO1.png\" width = \"600px\"><left>\n",
    "    \n",
    "#### Implementation of the reservoir simulation function\n",
    "Here we define a function that implements the reservoir simulation, that is, iteratively apply the mass balance equation and reconstruct the temporal evolution of the reservoir variables over the simulation period"
   ]
  },
  {
   "cell_type": "code",
   "execution_count": 2,
   "id": "2a07a4b7",
   "metadata": {},
   "outputs": [],
   "source": [
    "def res_sim(inflow,evap,demand,s_0,s_max,env_min,supply):\n",
    "    \n",
    "    \"\"\"\n",
    "    This is a model that simulates the operation of a single reservoir system. \n",
    "    It essentially consists of a water balance equation, \n",
    "    where the storage (s) at a future time step is predicted from the storage at the current time \n",
    "    by adding and subtracting the inflows and outflows that will occur during the temporal interval ahead\n",
    "\n",
    "    The inputs of the model are:\n",
    "\n",
    "    inflow = time series of reservoir inflows [ML]\n",
    "    evap = time series of evaporation from the reservoir surface area [ML]\n",
    "    demand = time series of water demand [ML]\n",
    "    s_0 = initial reservoir storage [ML]\n",
    "    s_max = maximum storage capacity of the reservoir [ML]\n",
    "    env_min = minimum environmental flow [ML]\n",
    "    supply = regulated reservoir release for water supply [ML]\n",
    "    \n",
    "    And the outpus are:\n",
    "    \n",
    "    s = reservoir storage [ML]\n",
    "    env = environmental compensation flow [ML]\n",
    "    spill = outflow through spillways [ML]\n",
    "    supply = regulated reservoir release for water supply [ML]\n",
    "    \n",
    "    \"\"\"\n",
    "    T = len(inflow) # number of time steps (weeks)\n",
    "    # Declare output variables\n",
    "\n",
    "    s = np.zeros(T+1) # reservoir storage in ML\n",
    "\n",
    "    spill = np.zeros(T) # spillage in ML\n",
    "\n",
    "    env = np.zeros(T) + env_min # environmental compensation flow\n",
    "    \n",
    "    # Initial storage\n",
    "    s[0] = s_0\n",
    "    \n",
    "    for t in np.arange(T):\n",
    "        # Environmental flow\n",
    "        if s[t]+inflow[t]-evap[t] <= 0:\n",
    "            env[t] = 0\n",
    "            \n",
    "        if env[t] >= s[t]+inflow[t]-evap[t]:\n",
    "            env[t] = s[t]+inflow[t]-evap[t]\n",
    "            \n",
    "        # Supply\n",
    "        if s[t]+inflow[t]-evap[t]-env[t] <= 0:\n",
    "            supply[t] = 0\n",
    "            \n",
    "        if supply[t] >= s[t]+inflow[t]-evap[t]-env[t]:\n",
    "            supply[t] = s[t]+inflow[t]-evap[t]-env[t]\n",
    "            \n",
    "        # Spillage\n",
    "        if s[t]+inflow[t]-evap[t]-env[t]-supply[t] > s_max:\n",
    "            spill[t] = 𝑠[t]+inflow[t]-evap[t]-env[t]-supply[t] - s_max\n",
    "        \n",
    "        s[t+1]=s[t]+inflow[t]-evap[t]-env[t]-spill[t]-supply[t]\n",
    "        \n",
    "    return s,env,spill,supply"
   ]
  },
  {
   "cell_type": "markdown",
   "id": "a646438b",
   "metadata": {},
   "source": [
    "#### Definition of inflow and demand scenarios\n",
    "Let's assume we want to look at the next 8 weeks the number of weeks, and assume we have forecasts of inflows, evaporation and demand for this period."
   ]
  },
  {
   "cell_type": "code",
   "execution_count": 3,
   "id": "43c81ccf",
   "metadata": {},
   "outputs": [],
   "source": [
    "inflow = np.array([15,17,19,11,9,4,3,8]) # (ML/week) time series of inflow forecasts\n",
    "evap = np.array([1,1,2,2,2,2,2,3]) # (ML/week) time series of evaporation forecasts\n",
    "demand = np.array([13,13,17,18,20,22,25,26]) # (ML/week) time series of demand forecasts\n",
    "T = len(inflow) # number of time steps (weeks)\n",
    "weeks = np.arange(1,T+1)"
   ]
  },
  {
   "cell_type": "markdown",
   "id": "d4db9878",
   "metadata": {},
   "source": [
    "#### Definition of other input parameters\n",
    "Let's define other variables that are needed for the reservoir system simulation, such as the reservoir storage capacity, the environmental compensation flow, etc."
   ]
  },
  {
   "cell_type": "code",
   "execution_count": 4,
   "id": "6f24e7eb",
   "metadata": {},
   "outputs": [],
   "source": [
    "### Constraints ###\n",
    "s_max = 150 #  (ML) Maximum storage (=reservoir capacity)\n",
    "s_min = 0 #  (ML) Minimum storage \n",
    "env_min = 2 # (ML/week)   # Environmental compensation flow\n",
    "\n",
    "### Initial conditions ###\n",
    "s_0 = 80 # (ML) # Storage volume at the beginning of the simulation period"
   ]
  },
  {
   "cell_type": "markdown",
   "id": "16947c5c",
   "metadata": {},
   "source": [
    "## Multi-objective optimisation\n",
    "### Example 1 - Objectives: 1) reduce the number of water deficit failures and 2) their consequences\n",
    "In this example we would like to make our system more reliable (less frequent water supply failures) and less vulnerable (failures do not produce severe consequences/impacts) at the same time.\n",
    "We first need to define the objective functions, i.e. functions whose output value is to be minimized or maximized over the set of feasible alternatives (combinations of variable values). In this case we would like to minimize both the **Reliability indicator** and the **Squared Deficit**. Let's define the functions to calculate both:"
   ]
  },
  {
   "cell_type": "code",
   "execution_count": 5,
   "id": "3a16410b",
   "metadata": {},
   "outputs": [],
   "source": [
    "def reliability(supply, demand):\n",
    "    T = len(supply)\n",
    "    x = np.zeros(T)\n",
    "    \n",
    "    for t in range(T):\n",
    "        if supply[t] >= demand[t]:\n",
    "            x[t] = 0\n",
    "        else:\n",
    "            x[t] = 1\n",
    "            \n",
    "    REL = np.mean(x)\n",
    "    return REL   "
   ]
  },
  {
   "cell_type": "code",
   "execution_count": 6,
   "id": "e545b332",
   "metadata": {},
   "outputs": [],
   "source": [
    "def SD_func(supply,demand):\n",
    "    T = len(demand)\n",
    "    \n",
    "    sd = np.zeros(T)\n",
    "    \n",
    "    for t in range(T):\n",
    "        sd[t] = np.max(demand[t] - supply[t], 0)**2\n",
    "    \n",
    "    SD = np.mean(sd)\n",
    "    return SD"
   ]
  },
  {
   "cell_type": "markdown",
   "id": "9c18ca5b",
   "metadata": {},
   "source": [
    "The code to run the optimisation is the following:"
   ]
  },
  {
   "cell_type": "code",
   "execution_count": 7,
   "id": "48696233",
   "metadata": {},
   "outputs": [],
   "source": [
    "def auto_optim(vars):\n",
    "    # First we indicate the variables that the optimizer will define to minimize the objective function.\n",
    "    # In this case the variables are the release volume for each of the 8 weeks\n",
    "    \n",
    "    # We create an array with the weekly release volumes\n",
    "    supply = vars\n",
    "    # We run the reservoir system model\n",
    "    s,env,spill,supply = res_sim(inflow,evap,demand,s_0,s_max,env_min,supply)\n",
    "    # Here we run the objective functions\n",
    "    REL = reliability(supply,demand)\n",
    "    SD = SD_func(supply,demand)\n",
    "    \n",
    "    # As outputs of the function we indicate the values to minimize\n",
    "    return [REL,SD]\n",
    "\n",
    "problem = Problem(T,2) # Here we indicate that the optimization problems has T variables and 2 objective functions\n",
    "# Now we indicate the min and max values that the variables can take. In this case we set 0 and 30 ML\n",
    "Real0 = Real(0, 30);Real1 = Real(0, 30);Real2 = Real(0, 30);Real3 = Real(0, 30);\n",
    "Real4 = Real(0, 30);Real5 = Real(0, 30);Real6 = Real(0, 30);Real7 = Real(0, 30)\n",
    "\n",
    "problem.types[:] = [Real0] + [Real1] + [Real2] + [Real3] + [Real4] + [Real5] + [Real6] + [Real7] \n",
    "problem.function = auto_optim\n",
    "\n",
    "population_size = 6 # number of optimal solutions\n",
    "algorithm_REL_SD = NSGAII(problem,population_size)\n",
    "algorithm_REL_SD.run(10000) # Number of iterations/runs"
   ]
  },
  {
   "cell_type": "markdown",
   "id": "f3c68c7f",
   "metadata": {},
   "source": [
    "Now we store the results of the optimization as arrays"
   ]
  },
  {
   "cell_type": "code",
   "execution_count": 8,
   "id": "94c4ebeb",
   "metadata": {},
   "outputs": [],
   "source": [
    "results_optim_REL = np.array([algorithm_REL_SD.result[i].objectives[0] for i in range(population_size)])\n",
    "results_optim_SD = np.array([algorithm_REL_SD.result[i].objectives[1] for i in range(population_size)])\n",
    "\n",
    "solutions_optim_REL_SD = [algorithm_REL_SD.result[i].variables[0:T] for i in range(population_size)]"
   ]
  },
  {
   "cell_type": "markdown",
   "id": "2e2bcd43",
   "metadata": {},
   "source": [
    "#### Plot the optimisation results\n",
    "We can visualise the tradeoffs between the two objectives in one plot, called **Pareto front**, which displays the combination of the two objective values in correspondence to a set of optimised solutions. Click on one point in the Pareto front to visualise the release scheduling that generates that performance, and associated storage time series.  What do you think would be a balanced solution?"
   ]
  },
  {
   "cell_type": "code",
   "execution_count": 10,
   "id": "df3e4cf0",
   "metadata": {},
   "outputs": [
    {
     "data": {
      "image/png": "[encoded data removed]",
      "text/plain": [
       "<Figure size 360x360 with 1 Axes>"
      ]
     },
     "metadata": {
      "needs_background": "light"
     },
     "output_type": "display_data"
    }
   ],
   "source": [
    "plt.figure(figsize = (5,5))\n",
    "plt.scatter(results_optim_REL,results_optim_SD)\n",
    "plt.xlabel('REL')\n",
    "plt.ylabel('SD')\n",
    "plt.xlim(0,1)\n",
    "plt.show()"
   ]
  },
  {
   "cell_type": "markdown",
   "id": "d2711c82",
   "metadata": {},
   "source": [
    "Let´s make an interactive figure to make the exploration of the results easier"
   ]
  },
  {
   "cell_type": "code",
   "execution_count": 11,
   "id": "53837f88",
   "metadata": {},
   "outputs": [
    {
     "data": {
      "application/vnd.jupyter.widget-view+json": {
       "model_id": "83dbbe1c5a7e4a8b8a7a41e9b8202a3e",
       "version_major": 2,
       "version_minor": 0
      },
      "text/plain": [
       "interactive(children=(Dropdown(description='solution_num', options=(0, 1, 2, 3, 4, 5), value=0), Output()), _d…"
      ]
     },
     "metadata": {},
     "output_type": "display_data"
    }
   ],
   "source": [
    "@interact(solution_num=np.arange(population_size))\n",
    "def pareto_interac(solution_num=0):\n",
    "    # Figure: Pareto front\n",
    "    plt.figure(figsize = (3,10))\n",
    "    plt.subplot(3,1,1)\n",
    "    plt.scatter(results_optim_REL,results_optim_SD)\n",
    "    plt.scatter(results_optim_REL[solution_num],results_optim_SD[solution_num], color = 'red', s = 100)\n",
    "    plt.xlabel('REL')\n",
    "    plt.ylabel('SD')\n",
    "    plt.xlim(0,1)\n",
    "    plt.ylim(0,200)\n",
    "    \n",
    "    # Here we need to run the reservoir model using the results of the of the optimizer = solutions_optim_REL_SD\n",
    "    # We do this to obtain the actual supply (after applying the water balance: s + inputs - outputs) and \n",
    "    # the reservoir storage time series (s) \n",
    "    s,env,spill,supply = res_sim(inflow,evap,demand,s_0,s_max,env_min,solutions_optim_REL_SD[solution_num])\n",
    "    \n",
    "    # Figure: supply vs demand\n",
    "    plt.figure(figsize=(10,6)) # to define the plot size\n",
    "    plt.subplot(3,1,2)\n",
    "    plt.bar(weeks,demand, color = 'lightgray', label = 'demand') # bar plot showing the demand volume for each week\n",
    "    plt.bar(weeks,supply, color = 'green', label = 'releases', alpha = 0.5) \n",
    "    plt.ylabel('ML/week')\n",
    "    plt.ylim([0,35])\n",
    "    plt.title('Squared deficit = %i ML$^2$/week - Reliability = %.2f failures/week' % (results_optim_SD[solution_num],results_optim_REL[solution_num]))\n",
    "\n",
    "    # Figure: reservoir storage\n",
    "    plt.figure(figsize=(10,6)) # to define the plot size\n",
    "    plt.subplot(3,1,3)\n",
    "    plt.plot(s, color = 'blue', label = 'storage') # line presenting the evolution of the reservoir storage volume\n",
    "    plt.xlabel('week')\n",
    "    plt.ylabel('ML/week')\n",
    "    plt.ylim([0,200])\n",
    "    plt.legend()"
   ]
  },
  {
   "cell_type": "markdown",
   "id": "441fa271",
   "metadata": {},
   "source": [
    "### Exercise - Objectives: improve the water supply security of our system in terms of 1) quantity and 2) quality\n",
    "In this exercise you should try to make our system 1)less vulnerable (failures do not produce severe consequences/impacts) and at the same time make sure that 2) the **quality** of the water supplied is adequate. For the objective 2) we are interested in minimising the chances that the reservoir level go below a **minimum threshold** because the **quality** of the water deteriorates when levels are low. We measure how well this criterion is satisfied by the following objective function:\n",
    "\n",
    "$$MSV = 1/T \\sum_{t=1}^{T} max ( \\ smin - s(t) , \\ 0)$$\n",
    "\n",
    "where, again, `T` is the length of the simulation period, `s` is the reservoir storage, and `s_min` is the minimum reservoir storage threshold that should preferably not be transpassed (`MSV` stands for **Minimum Storage Violation**). \n",
    "\n",
    "We first need to define the objective functions, i.e. functions whose output value is to be minimized or maximized over the set of feasible alternatives (combinations of variable values). In this case we would like to minimize both the **Reliability indicator** and the **MSV**. The Reliability function was already defined above, let's define the function to calculate **MSV**:"
   ]
  },
  {
   "cell_type": "code",
   "execution_count": 12,
   "id": "e38ecc11",
   "metadata": {},
   "outputs": [],
   "source": [
    "def MSV_func(s,s_min):\n",
    "    \n",
    "    T = len(s)\n",
    "    \n",
    "    msv = np.zeros(T) # weeekly storage violations\n",
    "    \n",
    "    for t in range(T):\n",
    "        msv[t] = np.abs(np.max([s_min - s[t], 0]))\n",
    "    \n",
    "    MSV = np.mean(msv) # mean of the weekly storage violations\n",
    "    return MSV"
   ]
  },
  {
   "cell_type": "markdown",
   "id": "abb5813b",
   "metadata": {},
   "source": [
    "For our case, let's set this threshold to **30 ML**:"
   ]
  },
  {
   "cell_type": "code",
   "execution_count": 13,
   "id": "3c10393d",
   "metadata": {},
   "outputs": [],
   "source": [
    "# Minimum storage threshold\n",
    "s_min = 30 # in ML"
   ]
  },
  {
   "cell_type": "markdown",
   "id": "753c09dd",
   "metadata": {},
   "source": [
    "The code to run the optimisation is the following:"
   ]
  },
  {
   "cell_type": "code",
   "execution_count": 14,
   "id": "7c0a662d",
   "metadata": {},
   "outputs": [],
   "source": [
    "def auto_optim(vars):\n",
    "    # First we indicate the variables that the optimizer will define to minimize the objective function.\n",
    "    # In this case the variables are the release volume for each of the 8 weeks\n",
    "    \n",
    "    # We create an array with the weekly release volumes\n",
    "    supply = vars\n",
    "    # We run the reservoir system model\n",
    "    s,env,spill,supply = res_sim(inflow,evap,demand,s_0,s_max,env_min,supply)\n",
    "    # Here we run the objective functions\n",
    "    MSV = MSV_func(s,s_min)\n",
    "    SD = SD_func(supply,demand)\n",
    "    \n",
    "    # As outputs of the function we indicate the values to minimize\n",
    "    return [MSV,SD]\n",
    "\n",
    "problem = Problem(T,2) # Here we indicate that the optimization problems has T variables and 2 objective functions\n",
    "# Now we indicate the min and max values that the variables can take. In this case we set 0 and 30 ML\n",
    "Real0 = Real(0, 30);Real1 = Real(0, 30);Real2 = Real(0, 30);Real3 = Real(0, 30);\n",
    "Real4 = Real(0, 30);Real5 = Real(0, 30);Real6 = Real(0, 30);Real7 = Real(0, 30)\n",
    "\n",
    "problem.types[:] = [Real0] + [Real1] + [Real2] + [Real3] + [Real4] + [Real5] + [Real6] + [Real7] \n",
    "problem.function = auto_optim\n",
    "\n",
    "population_size = 6 # number of optimal solutions\n",
    "algorithm_MSV_SD = NSGAII(problem,population_size)\n",
    "algorithm_MSV_SD.run(10000) # Number of iterations/runs"
   ]
  },
  {
   "cell_type": "markdown",
   "id": "fd683d28",
   "metadata": {},
   "source": [
    "Now we store the results of the optimization as arrays"
   ]
  },
  {
   "cell_type": "code",
   "execution_count": 15,
   "id": "eec06f4c",
   "metadata": {},
   "outputs": [],
   "source": [
    "results_optim_MSV = np.array([algorithm_MSV_SD.result[i].objectives[0] for i in range(population_size)])\n",
    "results_optim_SD = np.array([algorithm_MSV_SD.result[i].objectives[1] for i in range(population_size)])\n",
    "\n",
    "solutions_optim_MSV_SD = [algorithm_MSV_SD.result[i].variables[0:T] for i in range(population_size)]"
   ]
  },
  {
   "cell_type": "markdown",
   "id": "a5c285dc",
   "metadata": {},
   "source": [
    "#### Plot the optimisation results\n",
    "We can visualise the tradeoffs between the two objectives in one plot, called **Pareto front**, which displays the combination of the two objective values in correspondence to a set of optimised solutions. Click on one point in the Pareto front to visualise the release scheduling that generates that performance, and associated storage time series. **What do you think would be a balanced solution?**"
   ]
  },
  {
   "cell_type": "code",
   "execution_count": 16,
   "id": "3be2c4d2",
   "metadata": {},
   "outputs": [
    {
     "data": {
      "application/vnd.jupyter.widget-view+json": {
       "model_id": "585927c369d94b50987ad2a9c7f67632",
       "version_major": 2,
       "version_minor": 0
      },
      "text/plain": [
       "interactive(children=(Dropdown(description='solution_num', options=(0, 1, 2, 3, 4, 5), value=0), Output()), _d…"
      ]
     },
     "metadata": {},
     "output_type": "display_data"
    }
   ],
   "source": [
    "@interact(solution_num=np.arange(population_size))\n",
    "def pareto_interac_2(solution_num=0):\n",
    "    # Figure: Pareto front\n",
    "    plt.figure(figsize = (3,10))\n",
    "    plt.subplot(3,1,1)\n",
    "    plt.scatter(results_optim_MSV,results_optim_SD)\n",
    "    plt.scatter(results_optim_MSV[solution_num],results_optim_SD[solution_num], color = 'red', s = 100)\n",
    "    plt.xlabel('MSV')\n",
    "    plt.ylabel('SD')\n",
    "    plt.xlim(0,5)\n",
    "    plt.ylim(0,50)\n",
    "    \n",
    "    # Here we need to run the reservoir model using the results of the of the optimizer = solutions_optim_REL_SD\n",
    "    # We do this to obtain the actual supply (after applying the water balance: s + inputs - outputs) and \n",
    "    # the reservoir storage time series (s) \n",
    "    s,env,spill,supply = res_sim(inflow,evap,demand,s_0,s_max,env_min,solutions_optim_MSV_SD[solution_num])\n",
    "    \n",
    "    # Figure: supply vs demand\n",
    "    plt.figure(figsize=(10,6)) # to define the plot size\n",
    "    plt.subplot(3,1,2)\n",
    "    plt.bar(weeks,demand, color = 'lightgray', label = 'demand') # bar plot showing the demand volume for each week\n",
    "    plt.bar(weeks,supply, color = 'green', label = 'releases', alpha = 0.5) \n",
    "    plt.ylabel('ML/week')\n",
    "    plt.ylim([0,35])\n",
    "    plt.title('Squared deficit = %i ML$^2$/week - MSV = %.2f ML/week' % (results_optim_SD[solution_num],results_optim_MSV[solution_num]))\n",
    "\n",
    "    # Figure: reservoir storage\n",
    "    plt.figure(figsize=(10,6)) # to define the plot size\n",
    "    plt.subplot(3,1,3)\n",
    "    plt.plot(s, color = 'blue', label = 'storage') # line presenting the evolution of the reservoir storage volume\n",
    "    plt.hlines(s_min,xmin = 0, xmax = 8, linestyle= '--', label = 'min storage',color = 'red') # horizontal line representing the max storage\n",
    "    plt.xlabel('week')\n",
    "    plt.ylabel('ML/week')\n",
    "    plt.ylim([0,200])\n",
    "    plt.legend()"
   ]
  },
  {
   "cell_type": "markdown",
   "id": "2d4baf9b",
   "metadata": {},
   "source": [
    "### References \n",
    "Deb K. et al (2002) A fast and elitist multiobjective genetic algorithm: NSGA-II, IEEE Transactions on Evolutionary Computation, 6(2), 182-197, doi:10.1109/4235.996017."
   ]
  }
 ],
 "metadata": {
  "kernelspec": {
   "display_name": "Python 3",
   "language": "python",
   "name": "python3"
  },
  "language_info": {
   "codemirror_mode": {
    "name": "ipython",
    "version": 3
   },
   "file_extension": ".py",
   "mimetype": "text/x-python",
   "name": "python",
   "nbconvert_exporter": "python",
   "pygments_lexer": "ipython3",
   "version": "3.8.8"
  },
  "varInspector": {
   "cols": {
    "lenName": 16,
    "lenType": 16,
    "lenVar": 40
   },
   "kernels_config": {
    "python": {
     "delete_cmd_postfix": "",
     "delete_cmd_prefix": "del ",
     "library": "var_list.py",
     "varRefreshCmd": "print(var_dic_list())"
    },
    "r": {
     "delete_cmd_postfix": ") ",
     "delete_cmd_prefix": "rm(",
     "library": "var_list.r",
     "varRefreshCmd": "cat(var_dic_list()) "
    }
   },
   "types_to_exclude": [
    "module",
    "function",
    "builtin_function_or_method",
    "instance",
    "_Feature"
   ],
   "window_display": false
  }
 },
 "nbformat": 4,
 "nbformat_minor": 5
}
