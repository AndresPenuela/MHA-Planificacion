{
 "cells": [
  {
   "cell_type": "markdown",
   "id": "f112b556",
   "metadata": {},
   "source": [
    "# Sierra Boyera model\n",
    "The Sierra Boyera reservoir is located within the municipalities of the towns of Belmez, Peñarroya-Pueblonuevo and Fuente Obejuna, in the province of Córdoba (Andalusia, Spain).\n",
    "\n",
    "Its operation has 2 main objectives: water supply (both urban and agricultural uses) and recreational purposes.\n",
    "\n",
    "<left><img src=\"images/Sierra Boyera.jpg\" width = \"600px\"><left>"
   ]
  },
  {
   "cell_type": "code",
   "execution_count": null,
   "id": "3cdd832e",
   "metadata": {},
   "outputs": [],
   "source": [
    "import pandas as pd\n",
    "import numpy as np\n",
    "import matplotlib.pyplot as plt\n",
    "from ipywidgets import interact"
   ]
  },
  {
   "cell_type": "markdown",
   "id": "f42c9fa5",
   "metadata": {},
   "source": [
    "**Characterisitics** of the system:\n",
    "\n",
    "<left><img src=\"images/system_diagram.png\" width = \"600px\"><left>\n",
    "\n",
    "- Maximum reservoir storage: **41 hm3**\n",
    "- Minimum reservoir storage: **3 hm3**\n",
    "- Basin area: **439 km2**\n",
    "- Relationship between the reservoir storage volume (hm3) and the corresponding reservoir surface area (ha) is as follows:\n",
    "\n",
    "<left><img src=\"data/table - Vol vs Surf.png\" width = \"300px\"><left>\n",
    "    \n",
    "The minimum **environmental flows** are:\n",
    "- Oct-Nov: **70 l/s**\n",
    "- Dec-Apr: **140 l/s**\n",
    "- May-Sep: **60 l/s**\n",
    "    \n",
    "Water **demand**:\n",
    "- Urban - Cordoba Norte: **7.5 hm3/year**\n",
    "- Agricultural:\n",
    "<left><img src=\"data/Agricultural demand.png\" width = \"800px\"><left>\n",
    "    \n",
    "Monthly **evaporation** rates (mm/month):\n",
    "- Oct: **65.7**\n",
    "- Nov: **33.7**\n",
    "- Dec: **23.3**\n",
    "- Jan: **24**\n",
    "- Feb: **25.3**\n",
    "- Mar: **54.7**\n",
    "- Apr: **60.1**\n",
    "- May: **93.3**\n",
    "- Jun: **127.3**\n",
    "- Jul: **172**\n",
    "- Aug: **186.7**\n",
    "- Sep: **133.3**"
   ]
  },
  {
   "cell_type": "markdown",
   "id": "c13eff12",
   "metadata": {},
   "source": [
    "### Model inputs\n",
    "First we load the available rain data (Oct 2015 to Mar 2023)"
   ]
  },
  {
   "cell_type": "code",
   "execution_count": null,
   "id": "f8a83dc7",
   "metadata": {},
   "outputs": [],
   "source": [
    "rain = pd.read_excel('data/rain.xlsx',index_col = 'fecha')"
   ]
  },
  {
   "cell_type": "markdown",
   "id": "b3c3ace4",
   "metadata": {},
   "source": [
    "Then we resample the data from daily to monthly precipitation"
   ]
  },
  {
   "cell_type": "code",
   "execution_count": null,
   "id": "37d12870",
   "metadata": {},
   "outputs": [],
   "source": [
    "rain_month = rain.resample('M').sum()"
   ]
  },
  {
   "cell_type": "markdown",
   "id": "eed9dbbf",
   "metadata": {},
   "source": [
    "Let's plot the monthly precipitation"
   ]
  },
  {
   "cell_type": "code",
   "execution_count": null,
   "id": "f7f17a88",
   "metadata": {},
   "outputs": [],
   "source": []
  },
  {
   "cell_type": "markdown",
   "id": "3ab02328",
   "metadata": {},
   "source": [
    "Now let's create a very simple model to transform rainfall into reservoir inflows, knowing that the runoff coefficient in the  catchment is C = 0.16 (16% of the precipitation turns into runoff)"
   ]
  },
  {
   "cell_type": "code",
   "execution_count": null,
   "id": "e1f98cf8",
   "metadata": {},
   "outputs": [],
   "source": []
  },
  {
   "cell_type": "markdown",
   "id": "e936a88c",
   "metadata": {},
   "source": [
    "### Reservoir operation policies\n",
    "<left><img src=\"images/Rule curves.png\" width = \"1000px\"><left>\n",
    "    \n",
    "<left><img src=\"images/Operation rule - Table.png\" width = \"500px\"><left>"
   ]
  },
  {
   "cell_type": "markdown",
   "id": "f55995cb",
   "metadata": {},
   "source": [
    "**With all this information, we would like to simulate the Sierra Boyera system from Oct 2015 until Mar 2023 and optimise its operation**."
   ]
  },
  {
   "cell_type": "code",
   "execution_count": null,
   "id": "5e7cb6fc",
   "metadata": {},
   "outputs": [],
   "source": []
  }
 ],
 "metadata": {
  "kernelspec": {
   "display_name": "Python 3 (ipykernel)",
   "language": "python",
   "name": "python3"
  },
  "language_info": {
   "codemirror_mode": {
    "name": "ipython",
    "version": 3
   },
   "file_extension": ".py",
   "mimetype": "text/x-python",
   "name": "python",
   "nbconvert_exporter": "python",
   "pygments_lexer": "ipython3",
   "version": "3.9.16"
  },
  "varInspector": {
   "cols": {
    "lenName": 16,
    "lenType": 16,
    "lenVar": 40
   },
   "kernels_config": {
    "python": {
     "delete_cmd_postfix": "",
     "delete_cmd_prefix": "del ",
     "library": "var_list.py",
     "varRefreshCmd": "print(var_dic_list())"
    },
    "r": {
     "delete_cmd_postfix": ") ",
     "delete_cmd_prefix": "rm(",
     "library": "var_list.r",
     "varRefreshCmd": "cat(var_dic_list()) "
    }
   },
   "types_to_exclude": [
    "module",
    "function",
    "builtin_function_or_method",
    "instance",
    "_Feature"
   ],
   "window_display": false
  }
 },
 "nbformat": 4,
 "nbformat_minor": 5
}
