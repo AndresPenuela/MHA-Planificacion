{
 "cells": [
  {
   "cell_type": "code",
   "execution_count": 20,
   "id": "815d44b0",
   "metadata": {},
   "outputs": [],
   "source": [
    "import numpy as np\n",
    "import matplotlib.pyplot as plt"
   ]
  },
  {
   "cell_type": "code",
   "execution_count": 21,
   "id": "37e5b6b7",
   "metadata": {},
   "outputs": [],
   "source": [
    "def res_sim(inflow,evap,demand,s_0,s_max,env_min,supply):\n",
    "    \n",
    "    \"\"\"\n",
    "    This is a model that simulates the operation of a single reservoir system. \n",
    "    It essentially consists of a water balance equation, \n",
    "    where the storage (s) at a future time step is predicted from the storage at the current time \n",
    "    by adding and subtracting the inflows and outflows that will occur during the temporal interval ahead\n",
    "\n",
    "    The inputs of the model are:\n",
    "\n",
    "    inflow = time series of reservoir inflows [ML]\n",
    "    evap = time series of evaporation from the reservoir surface area [ML]\n",
    "    demand = time series of water demand [ML]\n",
    "    s_0 = initial reservoir storage [ML]\n",
    "    s_max = maximum storage capacity of the reservoir [ML]\n",
    "    env_min = minimum environmental flow [ML]\n",
    "    supply = regulated reservoir release for water supply [ML]\n",
    "    \n",
    "    And the outpus are:\n",
    "    \n",
    "    s = reservoir storage [ML]\n",
    "    env = environmental compensation flow [ML]\n",
    "    spill = outflow through spillways [ML]\n",
    "    supply = regulated reservoir release for water supply [ML]\n",
    "    \n",
    "    \"\"\"\n",
    "    T = len(inflow) # number of time steps (weeks)\n",
    "    # Declare output variables\n",
    "\n",
    "    s = np.zeros(T+1) # reservoir storage in ML\n",
    "\n",
    "    spill = np.zeros(T) # spillage in ML\n",
    "\n",
    "    env = np.zeros(T) + env_min # environmental compensation flow\n",
    "    \n",
    "    # Initial storage\n",
    "    s[0] = s_0\n",
    "    \n",
    "    for t in np.arange(T):\n",
    "        # Environmental flow\n",
    "        if s[t]+inflow[t]-evap[t] <= 0:\n",
    "            env[t] = 0\n",
    "            \n",
    "        if env[t] >= s[t]+inflow[t]-evap[t]:\n",
    "            env[t] = s[t]+inflow[t]-evap[t]\n",
    "            \n",
    "        # Supply\n",
    "        if s[t]+inflow[t]-evap[t]-env[t] <= 0:\n",
    "            supply[t] = 0\n",
    "            \n",
    "        if supply[t] >= s[t]+inflow[t]-evap[t]-env[t]:\n",
    "            supply[t] = s[t]+inflow[t]-evap[t]-env[t]\n",
    "            \n",
    "        # Spillage\n",
    "        if s[t]+inflow[t]-evap[t]-env[t]-supply[t] > s_max:\n",
    "            spill[t] = 𝑠[t]+inflow[t]-evap[t]-env[t]-supply[t] - s_max\n",
    "        \n",
    "        s[t+1]=s[t]+inflow[t]-evap[t]-env[t]-spill[t]-supply[t]\n",
    "        \n",
    "    return s,env,spill,supply"
   ]
  },
  {
   "cell_type": "code",
   "execution_count": 22,
   "id": "824e1835",
   "metadata": {},
   "outputs": [],
   "source": [
    "# Define the MSV function\n",
    "def MSV_func(s, s_min):\n",
    "    msv = np.abs(np.maximum(s_min - s, 0))\n",
    "    return np.mean(msv)\n",
    "\n",
    "# Define the SD function\n",
    "def SD_func(supply, demand):\n",
    "    sd = np.maximum(demand - supply, 0) ** 2\n",
    "    return np.mean(sd)"
   ]
  },
  {
   "cell_type": "code",
   "execution_count": 23,
   "id": "189a0a7e",
   "metadata": {},
   "outputs": [],
   "source": [
    "def fit_func(pop_size,population):\n",
    "    objectives = np.zeros((pop_size, 2))\n",
    "    for i in range(pop_size):\n",
    "        supply = population[i]*demand\n",
    "        s, env, spill, supply = res_sim(inflow, evap, demand, s_0, s_max, env_min, supply)\n",
    "        objectives[i, 0] = MSV_func(s[:-1], s_min)\n",
    "        objectives[i, 1] = SD_func(supply, demand)\n",
    "    \n",
    "    return objectives"
   ]
  },
  {
   "cell_type": "code",
   "execution_count": 24,
   "id": "49ef1f66",
   "metadata": {},
   "outputs": [],
   "source": [
    "# Define dominates function\n",
    "def dominates(obj1, obj2):\n",
    "    return np.all(obj1 <= obj2) and np.any(obj1 < obj2)"
   ]
  },
  {
   "cell_type": "code",
   "execution_count": 25,
   "id": "1c159a8f",
   "metadata": {},
   "outputs": [],
   "source": [
    "def parents_selection(objectives,population):\n",
    "    domination_count = np.zeros(len(objectives))\n",
    "    dominated_solutions = [[] for _ in range(len(objectives))]\n",
    "    for i in range(len(objectives)):\n",
    "        for j in range(i + 1, len(objectives)):\n",
    "            if dominates(objectives[i], objectives[j]):\n",
    "                dominated_solutions[i].append(j)\n",
    "                domination_count[j] += 1\n",
    "            elif dominates(objectives[j], objectives[i]):\n",
    "                dominated_solutions[j].append(i)\n",
    "                domination_count[i] += 1\n",
    "    print(domination_count)\n",
    "    parent_1 = population[np.where(domination_count == 0)[0][0]]\n",
    "    parent_2 = population[np.where(domination_count == 1)[0][0]]\n",
    "    \n",
    "    return parent_1,parent_2"
   ]
  },
  {
   "cell_type": "code",
   "execution_count": 26,
   "id": "c92ab0c3",
   "metadata": {},
   "outputs": [],
   "source": [
    "def crossover(parent_1, parent_2):\n",
    "    \n",
    "    num_genes = len(parent_1)\n",
    "    crossover_ratios = np.arange(0.25,1,0.25)\n",
    "    new_population = np.row_stack((parent_1,parent_2))\n",
    "    for crossover_ratio in crossover_ratios:\n",
    "        crossover_point = int(num_genes * crossover_ratio)\n",
    "        child_1 = np.append(parent_1[:crossover_point],parent_2[crossover_point:])\n",
    "        child_2 = np.append(parent_2[:crossover_point],parent_1[crossover_point:])\n",
    "        new_population=np.row_stack((new_population,child_1,child_2))\n",
    "        \n",
    "    return new_population"
   ]
  },
  {
   "cell_type": "code",
   "execution_count": 30,
   "id": "b26728e5",
   "metadata": {},
   "outputs": [],
   "source": [
    "def gen_opt(max_generations):\n",
    "    T = len(inflow)\n",
    "    num_weeks = len(inflow)\n",
    "    # Initialize population\n",
    "    population = np.random.uniform(0, 1, (pop_size, num_weeks))\n",
    "    \n",
    "    # Initialize best solutions\n",
    "    best_solutions = []\n",
    "    best_objectives = []\n",
    "    # Iterate through generations\n",
    "    for gen in range(max_generations):\n",
    "        # Evaluate population\n",
    "        objectives = fit_func(pop_size,population)\n",
    "        parent_1, parent_2 = parents_selection(objectives,population)\n",
    "        population = crossover(parent_1, parent_2)\n",
    "        print(population)\n",
    "    return population, objectives\n"
   ]
  },
  {
   "cell_type": "code",
   "execution_count": 31,
   "id": "e7f4f652",
   "metadata": {},
   "outputs": [],
   "source": [
    "# Define inputs\n",
    "inflow = np.array([15, 17, 19, 11, 9, 4, 3, 8])  # (ML/week) time series of inflow forecasts\n",
    "evap = np.array([1, 1, 2, 2, 2, 2, 2, 3])  # (ML/week) time series of evaporation forecasts\n",
    "demand = np.array([13, 13, 17, 18, 20, 22, 25, 26])  # (ML/week) time series of demand forecasts\n",
    "T = len(inflow)  # number of time steps (weeks)\n",
    "s_max = 150  # (ML) Maximum storage (=reservoir capacity)\n",
    "s_min = 30  # (ML) Minimum storage\n",
    "env_min = 2  # (ML/week) Environmental compensation flow\n",
    "s_0 = 80  # (ML) Storage volume at the beginning of the simulation period\n",
    "\n",
    "# Perform multi-objective optimization\n",
    "pop_size = 8\n",
    "max_generations = 10"
   ]
  },
  {
   "cell_type": "code",
   "execution_count": 32,
   "id": "f2f8916a",
   "metadata": {},
   "outputs": [
    {
     "name": "stdout",
     "output_type": "stream",
     "text": [
      "[6. 5. 0. 7. 4. 1. 2. 3.]\n",
      "[[0.62768224 0.94134916 0.71410188 0.83466873 0.23522822 0.70494656\n",
      "  0.71643841 0.59569453]\n",
      " [0.7618303  0.26205766 0.21524913 0.651884   0.30885083 0.36083368\n",
      "  0.92206725 0.63851129]\n",
      " [0.62768224 0.94134916 0.21524913 0.651884   0.30885083 0.36083368\n",
      "  0.92206725 0.63851129]\n",
      " [0.7618303  0.26205766 0.71410188 0.83466873 0.23522822 0.70494656\n",
      "  0.71643841 0.59569453]\n",
      " [0.62768224 0.94134916 0.71410188 0.83466873 0.30885083 0.36083368\n",
      "  0.92206725 0.63851129]\n",
      " [0.7618303  0.26205766 0.21524913 0.651884   0.23522822 0.70494656\n",
      "  0.71643841 0.59569453]\n",
      " [0.62768224 0.94134916 0.71410188 0.83466873 0.23522822 0.70494656\n",
      "  0.92206725 0.63851129]\n",
      " [0.7618303  0.26205766 0.21524913 0.651884   0.30885083 0.36083368\n",
      "  0.71643841 0.59569453]]\n",
      "[1. 6. 4. 3. 2. 5. 0. 7.]\n",
      "[[0.62768224 0.94134916 0.71410188 0.83466873 0.23522822 0.70494656\n",
      "  0.92206725 0.63851129]\n",
      " [0.62768224 0.94134916 0.71410188 0.83466873 0.23522822 0.70494656\n",
      "  0.71643841 0.59569453]\n",
      " [0.62768224 0.94134916 0.71410188 0.83466873 0.23522822 0.70494656\n",
      "  0.71643841 0.59569453]\n",
      " [0.62768224 0.94134916 0.71410188 0.83466873 0.23522822 0.70494656\n",
      "  0.92206725 0.63851129]\n",
      " [0.62768224 0.94134916 0.71410188 0.83466873 0.23522822 0.70494656\n",
      "  0.71643841 0.59569453]\n",
      " [0.62768224 0.94134916 0.71410188 0.83466873 0.23522822 0.70494656\n",
      "  0.92206725 0.63851129]\n",
      " [0.62768224 0.94134916 0.71410188 0.83466873 0.23522822 0.70494656\n",
      "  0.71643841 0.59569453]\n",
      " [0.62768224 0.94134916 0.71410188 0.83466873 0.23522822 0.70494656\n",
      "  0.92206725 0.63851129]]\n",
      "[0. 4. 4. 0. 4. 0. 4. 0.]\n"
     ]
    },
    {
     "ename": "IndexError",
     "evalue": "index 0 is out of bounds for axis 0 with size 0",
     "output_type": "error",
     "traceback": [
      "\u001b[1;31m---------------------------------------------------------------------------\u001b[0m",
      "\u001b[1;31mIndexError\u001b[0m                                Traceback (most recent call last)",
      "\u001b[1;32m<ipython-input-32-3b8378e12086>\u001b[0m in \u001b[0;36m<module>\u001b[1;34m\u001b[0m\n\u001b[1;32m----> 1\u001b[1;33m \u001b[0mbest_solutions\u001b[0m\u001b[1;33m,\u001b[0m \u001b[0mbest_objectives\u001b[0m \u001b[1;33m=\u001b[0m \u001b[0mgen_opt\u001b[0m\u001b[1;33m(\u001b[0m\u001b[0mmax_generations\u001b[0m\u001b[1;33m)\u001b[0m\u001b[1;33m\u001b[0m\u001b[1;33m\u001b[0m\u001b[0m\n\u001b[0m\u001b[0;32m      2\u001b[0m \u001b[1;33m\u001b[0m\u001b[0m\n\u001b[0;32m      3\u001b[0m \u001b[1;31m# Plot the Pareto front\u001b[0m\u001b[1;33m\u001b[0m\u001b[1;33m\u001b[0m\u001b[1;33m\u001b[0m\u001b[0m\n\u001b[0;32m      4\u001b[0m \u001b[0mplt\u001b[0m\u001b[1;33m.\u001b[0m\u001b[0mscatter\u001b[0m\u001b[1;33m(\u001b[0m\u001b[0mbest_objectives\u001b[0m\u001b[1;33m[\u001b[0m\u001b[1;33m:\u001b[0m\u001b[1;33m,\u001b[0m \u001b[1;36m0\u001b[0m\u001b[1;33m]\u001b[0m\u001b[1;33m,\u001b[0m \u001b[0mbest_objectives\u001b[0m\u001b[1;33m[\u001b[0m\u001b[1;33m:\u001b[0m\u001b[1;33m,\u001b[0m \u001b[1;36m1\u001b[0m\u001b[1;33m]\u001b[0m\u001b[1;33m)\u001b[0m\u001b[1;33m\u001b[0m\u001b[1;33m\u001b[0m\u001b[0m\n\u001b[0;32m      5\u001b[0m \u001b[0mplt\u001b[0m\u001b[1;33m.\u001b[0m\u001b[0mxlabel\u001b[0m\u001b[1;33m(\u001b[0m\u001b[1;34m'Mean Storage Violations (MSV)'\u001b[0m\u001b[1;33m)\u001b[0m\u001b[1;33m\u001b[0m\u001b[1;33m\u001b[0m\u001b[0m\n",
      "\u001b[1;32m<ipython-input-30-56b64a337d5f>\u001b[0m in \u001b[0;36mgen_opt\u001b[1;34m(max_generations)\u001b[0m\n\u001b[0;32m     12\u001b[0m         \u001b[1;31m# Evaluate population\u001b[0m\u001b[1;33m\u001b[0m\u001b[1;33m\u001b[0m\u001b[1;33m\u001b[0m\u001b[0m\n\u001b[0;32m     13\u001b[0m         \u001b[0mobjectives\u001b[0m \u001b[1;33m=\u001b[0m \u001b[0mfit_func\u001b[0m\u001b[1;33m(\u001b[0m\u001b[0mpop_size\u001b[0m\u001b[1;33m,\u001b[0m\u001b[0mpopulation\u001b[0m\u001b[1;33m)\u001b[0m\u001b[1;33m\u001b[0m\u001b[1;33m\u001b[0m\u001b[0m\n\u001b[1;32m---> 14\u001b[1;33m         \u001b[0mparent_1\u001b[0m\u001b[1;33m,\u001b[0m \u001b[0mparent_2\u001b[0m \u001b[1;33m=\u001b[0m \u001b[0mparents_selection\u001b[0m\u001b[1;33m(\u001b[0m\u001b[0mobjectives\u001b[0m\u001b[1;33m,\u001b[0m\u001b[0mpopulation\u001b[0m\u001b[1;33m)\u001b[0m\u001b[1;33m\u001b[0m\u001b[1;33m\u001b[0m\u001b[0m\n\u001b[0m\u001b[0;32m     15\u001b[0m         \u001b[0mpopulation\u001b[0m \u001b[1;33m=\u001b[0m \u001b[0mcrossover\u001b[0m\u001b[1;33m(\u001b[0m\u001b[0mparent_1\u001b[0m\u001b[1;33m,\u001b[0m \u001b[0mparent_2\u001b[0m\u001b[1;33m)\u001b[0m\u001b[1;33m\u001b[0m\u001b[1;33m\u001b[0m\u001b[0m\n\u001b[0;32m     16\u001b[0m         \u001b[0mprint\u001b[0m\u001b[1;33m(\u001b[0m\u001b[0mpopulation\u001b[0m\u001b[1;33m)\u001b[0m\u001b[1;33m\u001b[0m\u001b[1;33m\u001b[0m\u001b[0m\n",
      "\u001b[1;32m<ipython-input-25-2d1a5ea5f0bc>\u001b[0m in \u001b[0;36mparents_selection\u001b[1;34m(objectives, population)\u001b[0m\n\u001b[0;32m     12\u001b[0m     \u001b[0mprint\u001b[0m\u001b[1;33m(\u001b[0m\u001b[0mdomination_count\u001b[0m\u001b[1;33m)\u001b[0m\u001b[1;33m\u001b[0m\u001b[1;33m\u001b[0m\u001b[0m\n\u001b[0;32m     13\u001b[0m     \u001b[0mparent_1\u001b[0m \u001b[1;33m=\u001b[0m \u001b[0mpopulation\u001b[0m\u001b[1;33m[\u001b[0m\u001b[0mnp\u001b[0m\u001b[1;33m.\u001b[0m\u001b[0mwhere\u001b[0m\u001b[1;33m(\u001b[0m\u001b[0mdomination_count\u001b[0m \u001b[1;33m==\u001b[0m \u001b[1;36m0\u001b[0m\u001b[1;33m)\u001b[0m\u001b[1;33m[\u001b[0m\u001b[1;36m0\u001b[0m\u001b[1;33m]\u001b[0m\u001b[1;33m[\u001b[0m\u001b[1;36m0\u001b[0m\u001b[1;33m]\u001b[0m\u001b[1;33m]\u001b[0m\u001b[1;33m\u001b[0m\u001b[1;33m\u001b[0m\u001b[0m\n\u001b[1;32m---> 14\u001b[1;33m     \u001b[0mparent_2\u001b[0m \u001b[1;33m=\u001b[0m \u001b[0mpopulation\u001b[0m\u001b[1;33m[\u001b[0m\u001b[0mnp\u001b[0m\u001b[1;33m.\u001b[0m\u001b[0mwhere\u001b[0m\u001b[1;33m(\u001b[0m\u001b[0mdomination_count\u001b[0m \u001b[1;33m==\u001b[0m \u001b[1;36m1\u001b[0m\u001b[1;33m)\u001b[0m\u001b[1;33m[\u001b[0m\u001b[1;36m0\u001b[0m\u001b[1;33m]\u001b[0m\u001b[1;33m[\u001b[0m\u001b[1;36m0\u001b[0m\u001b[1;33m]\u001b[0m\u001b[1;33m]\u001b[0m\u001b[1;33m\u001b[0m\u001b[1;33m\u001b[0m\u001b[0m\n\u001b[0m\u001b[0;32m     15\u001b[0m \u001b[1;33m\u001b[0m\u001b[0m\n\u001b[0;32m     16\u001b[0m     \u001b[1;32mreturn\u001b[0m \u001b[0mparent_1\u001b[0m\u001b[1;33m,\u001b[0m\u001b[0mparent_2\u001b[0m\u001b[1;33m\u001b[0m\u001b[1;33m\u001b[0m\u001b[0m\n",
      "\u001b[1;31mIndexError\u001b[0m: index 0 is out of bounds for axis 0 with size 0"
     ]
    }
   ],
   "source": [
    "best_solutions, best_objectives = gen_opt(max_generations)\n",
    "\n",
    "# Plot the Pareto front\n",
    "plt.scatter(best_objectives[:, 0], best_objectives[:, 1])\n",
    "plt.xlabel('Mean Storage Violations (MSV)')\n",
    "plt.ylabel('Mean Squared Deviation (SD)')\n",
    "plt.title('Pareto Front')\n",
    "plt.show()"
   ]
  },
  {
   "cell_type": "code",
   "execution_count": null,
   "id": "7220bd9e",
   "metadata": {},
   "outputs": [],
   "source": []
  }
 ],
 "metadata": {
  "kernelspec": {
   "display_name": "Python 3",
   "language": "python",
   "name": "python3"
  },
  "language_info": {
   "codemirror_mode": {
    "name": "ipython",
    "version": 3
   },
   "file_extension": ".py",
   "mimetype": "text/x-python",
   "name": "python",
   "nbconvert_exporter": "python",
   "pygments_lexer": "ipython3",
   "version": "3.8.8"
  }
 },
 "nbformat": 4,
 "nbformat_minor": 5
}
