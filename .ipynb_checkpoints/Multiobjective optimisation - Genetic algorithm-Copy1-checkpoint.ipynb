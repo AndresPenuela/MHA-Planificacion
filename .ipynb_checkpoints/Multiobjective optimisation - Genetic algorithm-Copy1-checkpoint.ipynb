{
 "cells": [
  {
   "cell_type": "code",
   "execution_count": 1,
   "id": "815d44b0",
   "metadata": {},
   "outputs": [],
   "source": [
    "import numpy as np\n",
    "import matplotlib.pyplot as plt"
   ]
  },
  {
   "cell_type": "code",
   "execution_count": 2,
   "id": "37e5b6b7",
   "metadata": {},
   "outputs": [],
   "source": [
    "def res_sim(inflow,evap,demand,s_0,s_max,env_min,supply):\n",
    "    \n",
    "    \"\"\"\n",
    "    This is a model that simulates the operation of a single reservoir system. \n",
    "    It essentially consists of a water balance equation, \n",
    "    where the storage (s) at a future time step is predicted from the storage at the current time \n",
    "    by adding and subtracting the inflows and outflows that will occur during the temporal interval ahead\n",
    "\n",
    "    The inputs of the model are:\n",
    "\n",
    "    inflow = time series of reservoir inflows [ML]\n",
    "    evap = time series of evaporation from the reservoir surface area [ML]\n",
    "    demand = time series of water demand [ML]\n",
    "    s_0 = initial reservoir storage [ML]\n",
    "    s_max = maximum storage capacity of the reservoir [ML]\n",
    "    env_min = minimum environmental flow [ML]\n",
    "    supply = regulated reservoir release for water supply [ML]\n",
    "    \n",
    "    And the outpus are:\n",
    "    \n",
    "    s = reservoir storage [ML]\n",
    "    env = environmental compensation flow [ML]\n",
    "    spill = outflow through spillways [ML]\n",
    "    supply = regulated reservoir release for water supply [ML]\n",
    "    \n",
    "    \"\"\"\n",
    "    T = len(inflow) # number of time steps (weeks)\n",
    "    # Declare output variables\n",
    "\n",
    "    s = np.zeros(T+1) # reservoir storage in ML\n",
    "\n",
    "    spill = np.zeros(T) # spillage in ML\n",
    "\n",
    "    env = np.zeros(T) + env_min # environmental compensation flow\n",
    "    \n",
    "    # Initial storage\n",
    "    s[0] = s_0\n",
    "    \n",
    "    for t in np.arange(T):\n",
    "        # Environmental flow\n",
    "        if s[t]+inflow[t]-evap[t] <= 0:\n",
    "            env[t] = 0\n",
    "            \n",
    "        if env[t] >= s[t]+inflow[t]-evap[t]:\n",
    "            env[t] = s[t]+inflow[t]-evap[t]\n",
    "            \n",
    "        # Supply\n",
    "        if s[t]+inflow[t]-evap[t]-env[t] <= 0:\n",
    "            supply[t] = 0\n",
    "            \n",
    "        if supply[t] >= s[t]+inflow[t]-evap[t]-env[t]:\n",
    "            supply[t] = s[t]+inflow[t]-evap[t]-env[t]\n",
    "            \n",
    "        # Spillage\n",
    "        if s[t]+inflow[t]-evap[t]-env[t]-supply[t] > s_max:\n",
    "            spill[t] = 𝑠[t]+inflow[t]-evap[t]-env[t]-supply[t] - s_max\n",
    "        \n",
    "        s[t+1]=s[t]+inflow[t]-evap[t]-env[t]-spill[t]-supply[t]\n",
    "        \n",
    "    return s,env,spill,supply"
   ]
  },
  {
   "cell_type": "code",
   "execution_count": 3,
   "id": "824e1835",
   "metadata": {},
   "outputs": [],
   "source": [
    "# Define the MSV function\n",
    "def MSV_func(s, s_min):\n",
    "    msv = np.abs(np.maximum(s_min - s, 0))\n",
    "    return np.mean(msv)\n",
    "\n",
    "# Define the SD function\n",
    "def SD_func(supply, demand):\n",
    "    sd = np.maximum(demand - supply, 0) ** 2\n",
    "    return np.mean(sd)"
   ]
  },
  {
   "cell_type": "code",
   "execution_count": 5,
   "id": "7d56aa66",
   "metadata": {},
   "outputs": [],
   "source": [
    "T = len(inflow)\n",
    "num_weeks = len(inflow)"
   ]
  },
  {
   "cell_type": "code",
   "execution_count": 6,
   "id": "681c0828",
   "metadata": {},
   "outputs": [],
   "source": [
    "population = np.random.uniform(0, 1, (pop_size, num_weeks))"
   ]
  },
  {
   "cell_type": "code",
   "execution_count": 8,
   "id": "169f1c87",
   "metadata": {},
   "outputs": [],
   "source": [
    "best_solutions = []\n",
    "best_objectives = []"
   ]
  },
  {
   "cell_type": "code",
   "execution_count": null,
   "id": "9d02c6bd",
   "metadata": {},
   "outputs": [],
   "source": [
    "gen = 0"
   ]
  },
  {
   "cell_type": "code",
   "execution_count": 9,
   "id": "04bf1085",
   "metadata": {},
   "outputs": [],
   "source": [
    "objectives = np.zeros((pop_size, 2))"
   ]
  },
  {
   "cell_type": "code",
   "execution_count": 22,
   "id": "de383450",
   "metadata": {},
   "outputs": [
    {
     "data": {
      "text/plain": [
       "array([[  0.        ,  97.73101199],\n",
       "       [  0.        , 125.89617134],\n",
       "       [  0.        , 224.36209823],\n",
       "       [  0.        , 182.57530121],\n",
       "       [  0.        , 143.77503476],\n",
       "       [  0.        , 132.93418058],\n",
       "       [  0.        , 123.29077156],\n",
       "       [  0.        , 142.6600194 ],\n",
       "       [  0.        ,  93.14108039],\n",
       "       [  0.        , 148.46631276]])"
      ]
     },
     "execution_count": 22,
     "metadata": {},
     "output_type": "execute_result"
    }
   ],
   "source": [
    "objectives = np.zeros((pop_size, 2))\n",
    "for i in range(pop_size):\n",
    "    supply = population[i]*demand\n",
    "    s, env, spill, supply = res_sim(inflow, evap, demand, s_0, s_max, env_min, supply)\n",
    "    objectives[i, 0] = MSV_func(s[:-1], s_min)\n",
    "    objectives[i, 1] = SD_func(supply, demand)\n",
    "objectives"
   ]
  },
  {
   "cell_type": "code",
   "execution_count": 27,
   "id": "81d7a77f",
   "metadata": {},
   "outputs": [],
   "source": [
    "domination_count = np.zeros(len(objectives))\n",
    "dominated_solutions = [[] for _ in range(len(objectives))]\n",
    "for i in range(len(objectives)):\n",
    "    for j in range(i + 1, len(objectives)):\n",
    "        if dominates(objectives[i], objectives[j]):\n",
    "            dominated_solutions[i].append(j)\n",
    "            domination_count[j] += 1\n",
    "        elif dominates(objectives[j], objectives[i]):\n",
    "            dominated_solutions[j].append(i)\n",
    "            domination_count[i] += 1"
   ]
  },
  {
   "cell_type": "code",
   "execution_count": 47,
   "id": "de071b5a",
   "metadata": {},
   "outputs": [],
   "source": [
    "parent_1 = population[np.where(domination_count == 0)[0][0]]\n",
    "parent_2 = population[np.where(domination_count == 1)[0][0]]"
   ]
  },
  {
   "cell_type": "code",
   "execution_count": 48,
   "id": "04c5ec47",
   "metadata": {},
   "outputs": [],
   "source": [
    "def crossover(parent_1, parent_2, crossover_ratio = 0.5):\n",
    "    num_genes = len(parent_1)\n",
    "    crossover_point = int(num_genes * crossover_ratio)\n",
    "    child_1 = np.append(parent_1[:crossover_point],parent_2[crossover_point:])\n",
    "    child_2 = np.append(parent_2[:crossover_point],parent_1[crossover_point:])\n",
    "\n",
    "    return child_1,child_2"
   ]
  },
  {
   "cell_type": "code",
   "execution_count": 49,
   "id": "24302a18",
   "metadata": {},
   "outputs": [],
   "source": [
    "child_1,child_2 = crossover(parent_1, parent_2, crossover_ratio = 0.5)"
   ]
  },
  {
   "cell_type": "code",
   "execution_count": 40,
   "id": "eabde1ea",
   "metadata": {},
   "outputs": [],
   "source": [
    "num_genes = len(parent_1)\n",
    "crossover_point = int(num_genes * 0.5)"
   ]
  },
  {
   "cell_type": "code",
   "execution_count": 50,
   "id": "0ac104b0",
   "metadata": {},
   "outputs": [
    {
     "data": {
      "text/plain": [
       "array([0.86146704, 0.49829819, 0.95746492, 0.16557999, 0.57553021,\n",
       "       0.55411342, 0.71810189, 0.32663242])"
      ]
     },
     "execution_count": 50,
     "metadata": {},
     "output_type": "execute_result"
    }
   ],
   "source": [
    "child_1"
   ]
  },
  {
   "cell_type": "code",
   "execution_count": 19,
   "id": "b26728e5",
   "metadata": {},
   "outputs": [],
   "source": [
    "\n",
    "T = len(inflow)\n",
    "num_weeks = len(inflow)\n",
    "    # Initialize population\n",
    "    population = np.random.uniform(0, 1, (pop_size, num_weeks))\n",
    "    # Initialize best solutions\n",
    "    best_solutions = []\n",
    "    best_objectives = []\n",
    "    # Iterate through generations\n",
    "    for gen in range(max_generations):\n",
    "        # Evaluate population\n",
    "        objectives = np.zeros((pop_size, 2))\n",
    "        for i in range(pop_size):\n",
    "            supply = population[i]*demand\n",
    "            s, env, spill, supply = res_sim(inflow, evap, demand, s_0, s_max, env_min, supply)\n",
    "            objectives[i, 0] = MSV_func(s[:-1], s_min)\n",
    "            objectives[i, 1] = SD_func(supply, demand)\n",
    "        # Non-dominated sorting\n",
    "        fronts = non_dominated_sort(objectives)\n",
    "        # Select parents for next generation\n",
    "        selected_parents = []\n",
    "        front_index = 0\n",
    "        while front_index < len(fronts) and len(selected_parents) + len(fronts[front_index]) <= pop_size:\n",
    "            selected_parents.extend(fronts[front_index])\n",
    "            front_index += 1\n",
    "        # Fill remaining spaces using crowding distance\n",
    "        crowding_distances, sorted_indices = crowding_distance(objectives[fronts[front_index - 1]])\n",
    "        sorted_indices = sorted_indices[np.argsort(-crowding_distances)]  # Sort indices based on crowding distances\n",
    "        selected_parents.extend([fronts[front_index - 1][idx] for idx in sorted_indices[:pop_size - len(selected_parents)]])\n",
    "\n",
    "        \n",
    "        # Create next generation\n",
    "        new_population = population[selected_parents]\n",
    "        # Crossover\n",
    "        new_population = crossover(new_population)\n",
    "        # Mutation\n",
    "        new_population = mutation(new_population)\n",
    "        # Update population\n",
    "        population = new_population\n",
    "        # Store best solutions of current generation\n",
    "        best_index = np.argmin(objectives[:, 0] + objectives[:, 1])\n",
    "        best_solutions.append(population[best_index])\n",
    "        best_objectives.append(objectives[best_index])\n",
    "    return np.array(best_solutions), np.array(best_objectives)\n"
   ]
  },
  {
   "cell_type": "code",
   "execution_count": 19,
   "id": "ae3ec1d4",
   "metadata": {},
   "outputs": [],
   "source": [
    "# Define non-dominated sorting function\n",
    "def non_dominated_sort(objectives):\n",
    "    fronts = []\n",
    "    domination_count = np.zeros(len(objectives))\n",
    "    dominated_solutions = [[] for _ in range(len(objectives))]\n",
    "    for i in range(len(objectives)):\n",
    "        for j in range(i + 1, len(objectives)):\n",
    "            if dominates(objectives[i], objectives[j]):\n",
    "                dominated_solutions[i].append(j)\n",
    "                domination_count[j] += 1\n",
    "            elif dominates(objectives[j], objectives[i]):\n",
    "                dominated_solutions[j].append(i)\n",
    "                domination_count[i] += 1\n",
    "    current_front = np.where(domination_count == 0)[0]\n",
    "    while len(current_front) > 0:\n",
    "        fronts.append(current_front)\n",
    "        next_front = []\n",
    "        for i in current_front:\n",
    "            for j in dominated_solutions[i]:\n",
    "                domination_count[j] -= 1\n",
    "                if domination_count[j] == 0:\n",
    "                    next_front.append(j)\n",
    "        current_front = next_front\n",
    "    return fronts\n",
    "\n",
    "# Define dominates function\n",
    "def dominates(obj1, obj2):\n",
    "    return np.all(obj1 <= obj2) and np.any(obj1 < obj2)\n",
    "\n",
    "\n",
    "# Define crowding distance function\n",
    "def crowding_distance(objectives):\n",
    "    num_solutions = len(objectives)\n",
    "    num_objectives = objectives.shape[1]\n",
    "    crowding_distances = np.zeros(num_solutions)\n",
    "    sorted_indices = np.arange(num_solutions)\n",
    "    for obj_index in range(num_objectives):\n",
    "        sorted_indices = sorted_indices[np.argsort(objectives[sorted_indices, obj_index])]\n",
    "        crowding_distances[sorted_indices[0]] = np.inf\n",
    "        crowding_distances[sorted_indices[-1]] = np.inf\n",
    "        for i in range(1, num_solutions - 1):\n",
    "            crowding_distances[sorted_indices[i]] += \\\n",
    "                (objectives[sorted_indices[i + 1], obj_index] - objectives[sorted_indices[i - 1], obj_index]) / \\\n",
    "                (objectives[sorted_indices[-1], obj_index] - objectives[sorted_indices[0], obj_index])\n",
    "    return crowding_distances, sorted_indices\n",
    "\n",
    "# Define crossover function (uniform crossover)\n",
    "def crossover(population, crossover_prob=0.9):\n",
    "    new_population = np.copy(population)\n",
    "    for i in range(0, len(population), 2):\n",
    "        if np.random.rand() < crossover_prob:\n",
    "            for j in range(len(population[i])):\n",
    "                if np.random.rand() < 0.5:\n",
    "                    new_population[i, j], new_population[i + 1, j] = new_population[i + 1, j], new_population[i, j]\n",
    "    return new_population\n",
    "\n",
    "# Define mutation function (uniform mutation)\n",
    "def mutation(population, mutation_prob=0.1):\n",
    "    new_population = np.copy(population)\n",
    "    for i in range(len(population)):\n",
    "        for j in range(len(population[i])):\n",
    "            if np.random.rand() < mutation_prob:\n",
    "                new_population[i, j] = np.random.uniform(0, s_max)\n",
    "    return new_population"
   ]
  },
  {
   "cell_type": "code",
   "execution_count": 4,
   "id": "41a14ce7",
   "metadata": {},
   "outputs": [],
   "source": [
    "# Define inputs\n",
    "inflow = np.array([15, 17, 19, 11, 9, 4, 3, 8])  # (ML/week) time series of inflow forecasts\n",
    "evap = np.array([1, 1, 2, 2, 2, 2, 2, 3])  # (ML/week) time series of evaporation forecasts\n",
    "demand = np.array([13, 13, 17, 18, 20, 22, 25, 26])  # (ML/week) time series of demand forecasts\n",
    "T = len(inflow)  # number of time steps (weeks)\n",
    "s_max = 150  # (ML) Maximum storage (=reservoir capacity)\n",
    "s_min = 30  # (ML) Minimum storage\n",
    "env_min = 2  # (ML/week) Environmental compensation flow\n",
    "s_0 = 80  # (ML) Storage volume at the beginning of the simulation period\n",
    "\n",
    "# Perform multi-objective optimization\n",
    "pop_size = 10\n",
    "max_generations = 5000"
   ]
  },
  {
   "cell_type": "code",
   "execution_count": 23,
   "id": "f2f8916a",
   "metadata": {},
   "outputs": [
    {
     "name": "stderr",
     "output_type": "stream",
     "text": [
      "<ipython-input-23-e5da7e628869>:43: RuntimeWarning: invalid value encountered in double_scalars\n",
      "  (objectives[sorted_indices[i + 1], obj_index] - objectives[sorted_indices[i - 1], obj_index]) / \\\n"
     ]
    },
    {
     "data": {
      "image/png": "[encoded data removed]",
      "text/plain": [
       "<Figure size 432x288 with 1 Axes>"
      ]
     },
     "metadata": {
      "needs_background": "light"
     },
     "output_type": "display_data"
    }
   ],
   "source": [
    "best_solutions, best_objectives = multiobjective_optimization(inflow, evap, demand, s_0, s_max, s_min, env_min, pop_size, max_generations)\n",
    "\n",
    "# Plot the Pareto front\n",
    "plt.scatter(best_objectives[:, 0], best_objectives[:, 1])\n",
    "plt.xlabel('Mean Storage Violations (MSV)')\n",
    "plt.ylabel('Mean Squared Deviation (SD)')\n",
    "plt.title('Pareto Front')\n",
    "plt.show()"
   ]
  },
  {
   "cell_type": "code",
   "execution_count": null,
   "id": "3beabe2e",
   "metadata": {},
   "outputs": [],
   "source": []
  }
 ],
 "metadata": {
  "kernelspec": {
   "display_name": "Python 3",
   "language": "python",
   "name": "python3"
  },
  "language_info": {
   "codemirror_mode": {
    "name": "ipython",
    "version": 3
   },
   "file_extension": ".py",
   "mimetype": "text/x-python",
   "name": "python",
   "nbconvert_exporter": "python",
   "pygments_lexer": "ipython3",
   "version": "3.8.8"
  }
 },
 "nbformat": 4,
 "nbformat_minor": 5
}
