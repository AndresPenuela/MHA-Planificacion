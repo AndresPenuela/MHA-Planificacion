{
 "cells": [
  {
   "cell_type": "markdown",
   "metadata": {
    "slideshow": {
     "slide_type": "-"
    }
   },
   "source": [
    "# Reservoir operation modelling\n",
    "In this Notebook we will see how we can simulate the operation of water supply reservoir system.\n",
    "\n",
    "<left><img src=\"images/Dam1.gif\" width = \"800px\"><left>\n",
    "    \n",
    "We consider a simple illustrative system where a reservoir is operated to supply water to a domestic consumption node, while ensuring a minimum environmental flow in the downstream river (also called “environmental compensation flow”) and maintaining the water level in the reservoir within prescribed limits. We use a mathematical model to link all the key variables that represent the reservoir dynamics (inflow, storage and outflows) and use model simulation/optimisation to determine the reservoir release scheduling that will best meet the water demand over a coming period of time, given the predicted (or assumed) scenario of future inflows.\n",
    "<left> <img src=\"images/system_representation_IO0.png\" width = \"600px\"><left>\n",
    "## Import libraries\n",
    "Before getting started, let's import some libraries that will be used throughout the Notebook:"
   ]
  },
  {
   "cell_type": "code",
   "execution_count": 23,
   "metadata": {},
   "outputs": [],
   "source": [
    "import numpy as np\n",
    "import matplotlib.pyplot as plt\n",
    "from ipywidgets import interact # to create interactive elements and figures"
   ]
  },
  {
   "cell_type": "markdown",
   "metadata": {},
   "source": [
    "## The reservoir model\n",
    "\n",
    "The mathematical model of the reservoir essentially consists of a water balance equation, where the storage (***s***) at a future time step (for example, at the beginning of the next week) is predicted from the storage at the current time (the beginning of the this week) by adding and subtracting the inflows and outflows that will occur during the temporal interval ahead:\n",
    "\n",
    "$s(t+1) = s(t) + inflow(t) – evap(t) – env(t) - spill(t) – supply(t)$   \n",
    "\n",
    "Where\n",
    "\n",
    "***s(t)*** = reservoir storage at time-step t, in Vol (for example: ML)\n",
    "\n",
    "***inflow(t)*** = reservoir inflows in the interval [t,t+1], in Vol/time (for example: ML/week).\n",
    "\n",
    "***evap(t)*** = evaporation from the reservoir surface area in the interval [t,t+1], in Vol/time (for example: ML/week).\n",
    "\n",
    "***env(t)*** = environmental compensation flow in the interval [t,t+1], in Vol/time (for example: ML/week). \n",
    "\n",
    "***spill(t)*** = outflow through spillways (if any) in the interval [t,t+1], in Vol/time (for example: ML/week). \n",
    "\n",
    "***supply(t)*** = regulated reservoir release for water supply in the interval [t,t+1], in Vol/time (for example: ML/week). \n",
    "\n",
    "<left> <img src=\"images/system_representation_IO1.png\" width = \"600px\"><left>\n",
    "    \n",
    "#### Implementation of the reservoir simulation function\n",
    "Here we define a function that implements the reservoir simulation, that is, iteratively apply the mass balance equation and reconstruct the temporal evolution of the reservoir variables over the simulation period"
   ]
  },
  {
   "cell_type": "code",
   "execution_count": 32,
   "metadata": {
    "code_folding": []
   },
   "outputs": [],
   "source": [
    "def res_sim(inflow,evap,demand,s_0,s_max,env_min,supply):\n",
    "    \"\"\"\n",
    "    This is a model that simulates the operation of a single reservoir system. \n",
    "    It essentially consists of a water balance equation, \n",
    "    where the storage (s) at a future time step is predicted from the storage at the current time \n",
    "    by adding and subtracting the inflows and outflows that will occur during the temporal interval ahead\n",
    "\n",
    "    The inputs of the model are:\n",
    "\n",
    "    inflow = time series of reservoir inflows [ML]\n",
    "    evap = time series of evaporation from the reservoir surface area [ML]\n",
    "    demand = time series of water demand [ML]\n",
    "    s_0 = initial reservoir storage [ML]\n",
    "    s_max = maximum storage capacity of the reservoir [ML]\n",
    "    env_min = minimum environmental flow [ML]\n",
    "    supply = regulated reservoir release for water supply [ML]\n",
    "    \n",
    "    And the outpus are:\n",
    "\n",
    "    s = reservoir storage [ML]\n",
    "    env = environmental compensation flow [ML]\n",
    "    spill = outflow through spillways [ML]\n",
    "    supply = regulated reservoir release for water supply [ML]\n",
    "    \n",
    "    \"\"\"\n",
    "    \n",
    "    T = len(inflow)\n",
    "    \n",
    "    env = np.ones(T) * env_min\n",
    "    \n",
    "    s = np.zeros(T+1)\n",
    "    \n",
    "    spill = np.zeros(T)\n",
    "    \n",
    "    s[0] = s_0\n",
    "    \n",
    "    for t in range(T):\n",
    "        \n",
    "        # Water supply\n",
    "        if s[t] + inflow[t] - evap[t] <= 0:\n",
    "            \n",
    "            supply[t] = 0\n",
    "            \n",
    "        elif supply[t] >= s[t] + inflow[t] - evap[t]:\n",
    "            \n",
    "            supply[t] = s[t] + inflow[t] - evap[t]\n",
    "        \n",
    "        # Environmental flow\n",
    "        if s[t] + inflow[t] - evap[t] - supply[t] < env_min:\n",
    "            \n",
    "            env[t] = s[t] + inflow[t] - evap[t] - supply[t]\n",
    "            \n",
    "        if s[t] + inflow[t] - evap[t] - supply[t] <= 0:\n",
    "            env[t] = 0\n",
    "        \n",
    "        # Spillage\n",
    "        if s[t] + inflow[t] - evap[t] - supply[t] - env[t] > s_max:\n",
    "            \n",
    "            spill[t] = s[t] + inflow[t] - evap[t] - supply[t] - env[t] - s_max\n",
    "            \n",
    "        # Reservoir storage at the following week\n",
    "        s[t+1] = s[t] + inflow[t] - evap[t] - spill[t] - supply[t] - env[t]\n",
    "    \n",
    "    return s,env,spill,supply"
   ]
  },
  {
   "cell_type": "markdown",
   "metadata": {},
   "source": [
    "#### Definition of inflow and demand scenarios\n",
    "Let's assume we want to look at the next 8 weeks the number of weeks, and assume we have forecasts of inflows, evaporation and demand for this period."
   ]
  },
  {
   "cell_type": "code",
   "execution_count": 33,
   "metadata": {},
   "outputs": [],
   "source": [
    "inflow = np.array([15,17,19,11,9,4,3,8]) # (ML/week) time series of inflow forecasts\n",
    "evap = np.array([1,1,2,2,2,2,2,3]) # (ML/week) time series of evaporation forecasts\n",
    "demand = np.array([13,13,17,18,20,22,25,26]) # (ML/week) time series of demand forecasts\n",
    "T = len(inflow)\n",
    "weeks = np.arange(1,T+1)"
   ]
  },
  {
   "cell_type": "markdown",
   "metadata": {},
   "source": [
    "Plot the **inflow** forecast:"
   ]
  },
  {
   "cell_type": "code",
   "execution_count": 34,
   "metadata": {},
   "outputs": [
    {
     "data": {
      "text/plain": [
       "<matplotlib.legend.Legend at 0x1f7bd4f5700>"
      ]
     },
     "execution_count": 34,
     "metadata": {},
     "output_type": "execute_result"
    },
    {
     "data": {
      "image/png": "[encoded data removed]",
      "text/plain": [
       "<Figure size 720x144 with 1 Axes>"
      ]
     },
     "metadata": {
      "needs_background": "light"
     },
     "output_type": "display_data"
    }
   ],
   "source": [
    "plt.figure(figsize = (10,2))\n",
    "plt.bar(weeks, inflow,label = \"inflows\")\n",
    "plt.xlabel(\"week\")\n",
    "plt.ylabel(\"ML\")\n",
    "plt.ylim([0,30])\n",
    "plt.legend()"
   ]
  },
  {
   "cell_type": "markdown",
   "metadata": {},
   "source": [
    "Plot the **demand** forecast:"
   ]
  },
  {
   "cell_type": "code",
   "execution_count": 35,
   "metadata": {},
   "outputs": [
    {
     "data": {
      "text/plain": [
       "<matplotlib.legend.Legend at 0x1f7bd3b8790>"
      ]
     },
     "execution_count": 35,
     "metadata": {},
     "output_type": "execute_result"
    },
    {
     "data": {
      "image/png": "[encoded data removed]",
      "text/plain": [
       "<Figure size 720x144 with 1 Axes>"
      ]
     },
     "metadata": {
      "needs_background": "light"
     },
     "output_type": "display_data"
    }
   ],
   "source": [
    "plt.figure(figsize = (10,2))\n",
    "plt.bar(weeks, demand,label = \"demand\", color = 'lightgray')\n",
    "plt.xlabel(\"week\")\n",
    "plt.ylabel(\"ML\")\n",
    "plt.ylim([0,30])\n",
    "plt.legend()"
   ]
  },
  {
   "cell_type": "markdown",
   "metadata": {},
   "source": [
    "#### Definition of other input parameters\n",
    "Let's define other variables that are needed for the reservoir system simulation, such as the reservoir storage capacity, the environmental compensation flow, etc."
   ]
  },
  {
   "cell_type": "code",
   "execution_count": 36,
   "metadata": {},
   "outputs": [],
   "source": [
    "### Constraints ###\n",
    "s_max = 150 #  (ML) Maximum storage (=reservoir capacity)\n",
    "env_min = 2 # (ML/week)   # Environmental compensation flow\n",
    "\n",
    "### Initial conditions ###\n",
    "s_0 = 80 # (ML) # Storage volume at the beginning of the simulation period"
   ]
  },
  {
   "cell_type": "markdown",
   "metadata": {},
   "source": [
    "Let's simulate our system using the provided input data. Try meet the water demand by changing the weekly releases "
   ]
  },
  {
   "cell_type": "code",
   "execution_count": 39,
   "metadata": {
    "scrolled": false
   },
   "outputs": [
    {
     "data": {
      "text/plain": [
       "<matplotlib.legend.Legend at 0x1f7bebde3d0>"
      ]
     },
     "execution_count": 39,
     "metadata": {},
     "output_type": "execute_result"
    },
    {
     "data": {
      "image/png": "[encoded data removed]",
      "text/plain": [
       "<Figure size 1080x360 with 2 Axes>"
      ]
     },
     "metadata": {
      "needs_background": "light"
     },
     "output_type": "display_data"
    }
   ],
   "source": [
    "supply = np.array([5, 5, 5, 5, 5, 5, 5, 5])\n",
    "\n",
    "s,env,spill,supply = res_sim(inflow,evap,demand,s_0,s_max,env_min,supply)\n",
    "\n",
    "# Figure: supply vs demand\n",
    "plt.figure(figsize=(15,5)) # to define the plot size\n",
    "plt.subplot(2,1,1)\n",
    "plt.bar(weeks,demand, color = 'lightgray', label = 'demand') # bar plot showing the demand volume for each week\n",
    "plt.bar(weeks,supply, color = 'green', label = 'releases', alpha = 0.5) # bar plot showing the supply volume for each week\n",
    "plt.plot(np.arange(1,9),env, label = 'env', color = 'green')\n",
    "plt.plot(np.arange(1,9),spill, label = 'spill', color = 'red')\n",
    "plt.ylabel('ML/week')\n",
    "plt.ylim([0,35])\n",
    "plt.legend()\n",
    "\n",
    "# Figure: reservoir storage\n",
    "plt.subplot(2,1,2)\n",
    "plt.plot(s, color = 'blue', label = 'storage') # line presenting the evolution of the reservoir storage volume\n",
    "plt.hlines(s_max,xmin = 0, xmax = 8, label = 'max storage',color = 'red') # horizontal line representing the max storage\n",
    "plt.xlabel('week')\n",
    "plt.ylabel('ML/week')\n",
    "plt.ylim([0,200])\n",
    "plt.legend()"
   ]
  },
  {
   "cell_type": "markdown",
   "metadata": {},
   "source": [
    "## Quantification of the level of water security\n",
    "Now we define water security indicators to quantify the reliability, resiliency and vulnerability of the reservoir system\n",
    "\n",
    "### Reliability"
   ]
  },
  {
   "cell_type": "code",
   "execution_count": 17,
   "metadata": {},
   "outputs": [],
   "source": [
    "def reliability(demand,supply):\n",
    "    \n",
    "    T = np.size(supply)\n",
    "    # Initialization\n",
    "    x = np.zeros(T)\n",
    "    \n",
    "    for t in np.arange(T):\n",
    "        if supply[t] >= demand[t]:\n",
    "            x[t] = 0\n",
    "        else:\n",
    "            x[t] = 1\n",
    "    \n",
    "    REL = np.sum(x)/T\n",
    "    \n",
    "    return REL"
   ]
  },
  {
   "cell_type": "markdown",
   "metadata": {},
   "source": [
    "### Resiliency"
   ]
  },
  {
   "cell_type": "code",
   "execution_count": 18,
   "metadata": {},
   "outputs": [],
   "source": [
    "def resiliency(demand,supply):\n",
    "    \n",
    "    T = np.size(supply)\n",
    "    \n",
    "    x = np.zeros(T)\n",
    "    \n",
    "    for t in np.arange(T):\n",
    "        if supply[t] >= demand[t]:\n",
    "            x[t] = 0\n",
    "        else:\n",
    "            if t > 0:\n",
    "                x[t] = x[t-1] + 1\n",
    "            else:\n",
    "                x[t] = 1\n",
    "        \n",
    "    \n",
    "    RES = np.max(x)\n",
    "    return RES"
   ]
  },
  {
   "cell_type": "markdown",
   "metadata": {},
   "source": [
    "### Vulnerability"
   ]
  },
  {
   "cell_type": "code",
   "execution_count": 19,
   "metadata": {},
   "outputs": [],
   "source": [
    "def vulnerability(demand,supply):\n",
    "    \n",
    "    T = np.size(supply)\n",
    "    \n",
    "    deficit = np.zeros(T)\n",
    "    \n",
    "    for t in np.arange(T):\n",
    "        if supply[t] <= demand[t]:\n",
    "            deficit[t] = demand[t]-supply[t]\n",
    "        else:\n",
    "            deficit[t] = 0\n",
    "        \n",
    "    VUL = np.sum(deficit)/T\n",
    "    \n",
    "    return VUL"
   ]
  },
  {
   "cell_type": "markdown",
   "metadata": {},
   "source": [
    "### Interactive visualization of the reservoir system operation"
   ]
  },
  {
   "cell_type": "code",
   "execution_count": 20,
   "metadata": {},
   "outputs": [
    {
     "data": {
      "application/vnd.jupyter.widget-view+json": {
       "model_id": "f097859a1db143d9a8b03d71d6645c9e",
       "version_major": 2,
       "version_minor": 0
      },
      "text/plain": [
       "interactive(children=(IntSlider(value=0, description='rel_1', max=35), IntSlider(value=0, description='rel_2',…"
      ]
     },
     "metadata": {},
     "output_type": "display_data"
    }
   ],
   "source": [
    "@interact(rel_1 = (0,35),rel_2 = (0,35),rel_3 = (0,35),rel_4 = (0,35),rel_5 = (0,35),rel_6 = (0,35),rel_7 = (0,35),rel_8 = (0,35))\n",
    "def int_res_operation(rel_1=0,rel_2=0,rel_3=0,rel_4=0,rel_5=0,rel_6=0,rel_7=0,rel_8=0):\n",
    "    supply = np.array([rel_1, rel_2,rel_3,rel_4,rel_5,rel_6,rel_7,rel_8])\n",
    "    \n",
    "    s,env,spill,supply = res_sim(inflow,evap,demand,s_0,s_max,env_min,supply)\n",
    "    \n",
    "    REL = reliability(demand,supply)\n",
    "    RES = resiliency(demand,supply)\n",
    "    VUL = vulnerability(demand,supply)\n",
    "    \n",
    "    plt.figure(figsize=(15,4))\n",
    "    plt.subplot(2,1,1)\n",
    "    plt.bar(np.arange(1,9),demand, label = 'demand', color = 'grey')\n",
    "    plt.bar(np.arange(1,9),supply, label = 'supply', color = 'green', alpha = 0.5)\n",
    "    plt.plot(np.arange(1,9),env, label = 'env', color = 'green')\n",
    "    plt.plot(np.arange(1,9),spill, label = 'spill', color = 'red')\n",
    "    plt.title('REL = '+str(REL)+' - RES = '+str(RES)+' - VUL = '+str(VUL))\n",
    "    plt.xlabel('week')\n",
    "    plt.ylabel('ML')\n",
    "    plt.legend()\n",
    "    \n",
    "    plt.subplot(2,1,2)\n",
    "    plt.plot(s, label = 'supply', color = 'darkblue')\n",
    "    plt.xlabel('week')\n",
    "    plt.ylabel('ML')\n",
    "    plt.xlim([0.2,8.8])\n",
    "    plt.ylim([0,150])\n",
    "    plt.legend()\n",
    "    plt.show()"
   ]
  },
  {
   "cell_type": "markdown",
   "metadata": {},
   "source": [
    "## Determining the release scheduling by trial and error (manual optimisation)\n",
    "Here we want to use the reservoir model to assist the reservoir operator in determining the best scheduling of regulated reservoir releases (`supply`) in response to a certain scenario of inflows. The goal is to minimise the deficit with respect to a prescribed water demand, that is, to minimise the objective function:\n",
    "\n",
    "$$SD = 1/N \\sum_{t=1}^{T} [ \\ max( \\ 0, \\ demand(t)-supply(t) \\ ) \\ ]^2 $$\n",
    "\n",
    "where `T` is the length of the simulation period that we are considering, and `demand` is the water demand for each time-interval in that period, and `TSD` stands for **Squared Deficit**. Notice that the function $max(0,...)$ enables us to only count the difference between `demand` and `supply` when this is positive, that is, when the `supply` is smaller than the `demand`, and a water shortage is indeed produced. Also, the squaring is a 'mathematical trick' to make sure that larger deficit amounts are given more weight than smaller ones. This translates the fact that small deficit amounts are easier to mitigate and hence more acceptable, while larger ones can cause disproportionately severe impacts and should be avoided as much as possible."
   ]
  },
  {
   "cell_type": "code",
   "execution_count": 19,
   "metadata": {},
   "outputs": [],
   "source": [
    "def SD_func(demand,supply):\n",
    "    \n",
    "    T = np.size(demand)\n",
    "    \n",
    "    deficit = np.zeros(T)\n",
    "    \n",
    "    for t in np.arange(T):\n",
    "        if supply[t] < demand[t]:\n",
    "            deficit[t] = demand[t] - supply[t]\n",
    "        else:\n",
    "            deficit[t] = 0\n",
    "            \n",
    "    SD = np.sum(deficit**2)/T\n",
    "    \n",
    "    return SD"
   ]
  },
  {
   "cell_type": "markdown",
   "metadata": {},
   "source": [
    "#### Determining the optimal release scheduling via interactive visualisation\n",
    "\n",
    "Use the slider to set the release amount for each week in the simulation period, and in doing so try to minimise the Total Squared Deficit. "
   ]
  },
  {
   "cell_type": "code",
   "execution_count": 20,
   "metadata": {},
   "outputs": [
    {
     "data": {
      "application/vnd.jupyter.widget-view+json": {
       "model_id": "029855c7f51f4b588c85afb36003ab01",
       "version_major": 2,
       "version_minor": 0
      },
      "text/plain": [
       "interactive(children=(IntSlider(value=0, description='rel_1', max=35), IntSlider(value=0, description='rel_2',…"
      ]
     },
     "metadata": {},
     "output_type": "display_data"
    }
   ],
   "source": [
    "@interact(rel_1 = (0,35),rel_2 = (0,35),rel_3 = (0,35),rel_4 = (0,35),rel_5 = (0,35),rel_6 = (0,35),rel_7 = (0,35),rel_8 = (0,35))\n",
    "def int_res_operation_SD(rel_1=0,rel_2=0,rel_3=0,rel_4=0,rel_5=0,rel_6=0,rel_7=0,rel_8=0):\n",
    "    supply = np.array([rel_1, rel_2,rel_3,rel_4,rel_5,rel_6,rel_7,rel_8])\n",
    "    \n",
    "    s,env,spill,supply = res_sim(inflow,evap,demand,s_0,s_max,env_min,supply)\n",
    "    \n",
    "    VUL = vulnerability(demand,supply)\n",
    "    SD = SD_func(demand,supply)\n",
    "    \n",
    "    plt.figure(figsize=(15,4))\n",
    "    plt.subplot(2,1,1)\n",
    "    plt.bar(np.arange(1,9),demand, label = 'demand', color = 'grey')\n",
    "    plt.bar(np.arange(1,9),supply, label = 'supply', color = 'green', alpha = 0.5)\n",
    "    plt.plot(np.arange(1,9),env, label = 'env', color = 'green')\n",
    "    plt.plot(np.arange(1,9),spill, label = 'spill', color = 'red')\n",
    "    plt.title('VUL = '+str(VUL)+' - SD = '+str(SD))\n",
    "    plt.xlabel('week')\n",
    "    plt.ylabel('ML')\n",
    "    plt.legend()\n",
    "    \n",
    "    plt.subplot(2,1,2)\n",
    "    plt.plot(s, label = 'supply', color = 'darkblue')\n",
    "    plt.xlabel('week')\n",
    "    plt.ylabel('ML')\n",
    "    plt.xlim([0.2,8.8])\n",
    "    plt.ylim([0,150])\n",
    "    plt.legend()\n",
    "    plt.show()"
   ]
  },
  {
   "cell_type": "markdown",
   "metadata": {},
   "source": [
    "**Comment**: clearly it is not possible to fully meet the demand at all times in the simulation period. For example if we fully cover the demand for the first 7 weeks, we drawdown the reservoir to a point that we are forced to dramatically reduce the release in the last week, causing a very severe deficit. A more effective approach is to cause smaller deficits across all time steps, that is, tolerate some small deficits even when in principle we may fully cover the demand, in order to prevent more severe deficits in the later period. This type of approach is called ***hedging*** (see for example [You and Cai 2008](https://agupubs.onlinelibrary.wiley.com/doi/10.1029/2006WR005481)).\n",
    "\n",
    "Btw, the minimum SD value that can be achieved is **6, try to beat it!**\n",
    "\n",
    "## From single to multi-objective\n",
    "Now let's assume that, besides minimising supply deficits, we are also interested in minimising the chances that the reservoir level go below a minimum threshold. This could be, for example, because the quality of the water deteriorates when levels are low, requiring more costly treatment. We measure how well this criterion is satisfied by the following objective function:\n",
    "\n",
    "$$MSV = 1/N\\sum_{t=1}^{T} max ( \\ smin - s(t) , \\ 0)$$\n",
    "\n",
    "where, again, `T` is the length of the simulation period, `s` is the reservoir storage, and `s_min` is the minimum reservoir storage threshold that should preferably not be transpassed (`MSV` stands for **Minimum Storage Violation**). "
   ]
  },
  {
   "cell_type": "code",
   "execution_count": 21,
   "metadata": {},
   "outputs": [],
   "source": [
    "def MSV_REL_func(s,s_min):\n",
    "    T = np.size(s)\n",
    "    \n",
    "    threshold = np.zeros(T)\n",
    "    \n",
    "    for t in np.arange(T):\n",
    "        if s[t]<s_min:\n",
    "            threshold[t] = 1\n",
    "        else:\n",
    "            threshold[t] = 0\n",
    "            \n",
    "    MSV = np.sum(threshold)\n",
    "    \n",
    "    return MSV"
   ]
  },
  {
   "cell_type": "code",
   "execution_count": 22,
   "metadata": {},
   "outputs": [],
   "source": [
    "def MSV_VUL_func(s,s_min):\n",
    "    T = np.size(s)\n",
    "    \n",
    "    msv = np.zeros(T)\n",
    "    \n",
    "    for t in np.arange(T):\n",
    "        if s[t]< s_min:\n",
    "            msv[t] = s_min - s[t]\n",
    "        else:\n",
    "            msv[t] = 0\n",
    "            \n",
    "    MSV = np.mean(msv)\n",
    "    \n",
    "    return MSV"
   ]
  },
  {
   "cell_type": "markdown",
   "metadata": {},
   "source": [
    "For our case, let's set this threshold to 30 ML:"
   ]
  },
  {
   "cell_type": "code",
   "execution_count": 23,
   "metadata": {},
   "outputs": [],
   "source": [
    "# Minimum storage threshold\n",
    "s_min = 30 # in ML"
   ]
  },
  {
   "cell_type": "markdown",
   "metadata": {},
   "source": [
    "Now use the slider to set the release amount for each week in the simulation period, in a way that jointly minimise the Squared Deficit and the Minimum Storage Violation. "
   ]
  },
  {
   "cell_type": "code",
   "execution_count": 24,
   "metadata": {},
   "outputs": [
    {
     "data": {
      "application/vnd.jupyter.widget-view+json": {
       "model_id": "e824636d1525467488b1ff70d5f45e05",
       "version_major": 2,
       "version_minor": 0
      },
      "text/plain": [
       "interactive(children=(IntSlider(value=0, description='rel_1', max=35), IntSlider(value=0, description='rel_2',…"
      ]
     },
     "metadata": {},
     "output_type": "display_data"
    }
   ],
   "source": [
    "@interact(rel_1 = (0,35),rel_2 = (0,35),rel_3 = (0,35),rel_4 = (0,35),rel_5 = (0,35),rel_6 = (0,35),rel_7 = (0,35),rel_8 = (0,35))\n",
    "def int_res_operation_SD_MSV(rel_1=0,rel_2=0,rel_3=0,rel_4=0,rel_5=0,rel_6=0,rel_7=0,rel_8=0):\n",
    "    supply = np.array([rel_1, rel_2,rel_3,rel_4,rel_5,rel_6,rel_7,rel_8])\n",
    "    \n",
    "    s,env,spill,supply = res_sim(inflow,evap,demand,s_0,s_max,env_min,supply)\n",
    "    \n",
    "    MSV_REL = MSV_REL_func(s,s_min)\n",
    "    MSV_VUL = MSV_VUL_func(s,s_min)\n",
    "    SD = SD_func(demand,supply)\n",
    "    \n",
    "    plt.figure(figsize=(15,4))\n",
    "    plt.subplot(2,1,1)\n",
    "    plt.bar(np.arange(1,9),demand, label = 'demand', color = 'grey')\n",
    "    plt.bar(np.arange(1,9),supply, label = 'supply', color = 'green', alpha = 0.5)\n",
    "    plt.plot(np.arange(1,9),env, label = 'env', color = 'green')\n",
    "    plt.plot(np.arange(1,9),spill, label = 'spill', color = 'red')\n",
    "    plt.title('MSV_REL = '+str(MSV_REL)+'- MSV_VUL = '+str(MSV_VUL)+' - SD = '+str(SD))\n",
    "    plt.xlabel('week')\n",
    "    plt.ylabel('ML')\n",
    "    plt.legend()\n",
    "    \n",
    "    plt.subplot(2,1,2)\n",
    "    plt.plot(s, label = 'supply', color = 'darkblue')\n",
    "    plt.hlines(s_min,xmin = 0, xmax = 8,linestyle = '--', label = 'threshold', color = 'red')\n",
    "    plt.xlabel('week')\n",
    "    plt.ylabel('ML')\n",
    "    plt.xlim([0.2,8.8])\n",
    "    plt.ylim([0,150])\n",
    "    plt.legend()\n",
    "    plt.show()"
   ]
  },
  {
   "cell_type": "markdown",
   "metadata": {},
   "source": [
    "***Comment*** It is possible to find a release scheduling that produce no violation of the minimum storage threshold, although it will produce some supply deficit - the record is **39, can you beat it?**. However, one could also allow some violation of the storage threshold in order to reduce the deficits. The two objectives are conflicting: improving on one of them implies doing worse on the other.\n",
    "\n",
    "### References \n",
    "\n",
    "Deb K. et al (2002) A fast and elitist multiobjective genetic algorithm: NSGA-II, IEEE Transactions on Evolutionary Computation, 6(2), 182-197, doi:10.1109/4235.996017.\n",
    "\n",
    "You J.Y. and Cai X. (2008) Hedging rule for reservoir operations: 1. A theoretical analysis, Water Resour. Res., 44, W01415, doi:10.1029/2006WR005481."
   ]
  },
  {
   "cell_type": "code",
   "execution_count": null,
   "metadata": {},
   "outputs": [],
   "source": []
  }
 ],
 "metadata": {
  "kernelspec": {
   "display_name": "Python 3 (ipykernel)",
   "language": "python",
   "name": "python3"
  },
  "language_info": {
   "codemirror_mode": {
    "name": "ipython",
    "version": 3
   },
   "file_extension": ".py",
   "mimetype": "text/x-python",
   "name": "python",
   "nbconvert_exporter": "python",
   "pygments_lexer": "ipython3",
   "version": "3.9.12"
  },
  "varInspector": {
   "cols": {
    "lenName": 16,
    "lenType": 16,
    "lenVar": 40
   },
   "kernels_config": {
    "python": {
     "delete_cmd_postfix": "",
     "delete_cmd_prefix": "del ",
     "library": "var_list.py",
     "varRefreshCmd": "print(var_dic_list())"
    },
    "r": {
     "delete_cmd_postfix": ") ",
     "delete_cmd_prefix": "rm(",
     "library": "var_list.r",
     "varRefreshCmd": "cat(var_dic_list()) "
    }
   },
   "types_to_exclude": [
    "module",
    "function",
    "builtin_function_or_method",
    "instance",
    "_Feature"
   ],
   "window_display": false
  }
 },
 "nbformat": 4,
 "nbformat_minor": 4
}
